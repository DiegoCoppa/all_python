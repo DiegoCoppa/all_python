{
 "cells": [
  {
   "cell_type": "markdown",
   "metadata": {
    "slideshow": {
     "slide_type": "slide"
    },
    "tags": []
   },
   "source": [
    "<h1 style=\"color:rgb(0, 53, 143);font-size:40px;text-align:center;\">\n",
    "<img src=\"img/presentación.png\" alt=\"Drawing\" style=\"width: 1200px;\"/>\n",
    "</h1>"
   ]
  },
  {
   "cell_type": "markdown",
   "metadata": {
    "slideshow": {
     "slide_type": "slide"
    },
    "tags": []
   },
   "source": [
    "<table>\n",
    "    <tr>\n",
    "    <td style=\"color:rgb(0, 53, 143);font-size:20px;\">                     \n",
    "        <p>Ing. Diego Nahuel Coppa</p>\n",
    "        <p>Departamento de Flujo y Volumen</p>\n",
    "        <p>Centro de Metrología Física</p>\n",
    "        <p>Gerencia Operativa de Metrología y Calidad</p>\n",
    "    </td>\n",
    "<td><img src=\"img/Isologotipo.jpg\" alt=\"Drawing\" style=\"width: 400px;\"/></td>\n",
    "</tr>\n",
    "</table>"
   ]
  },
  {
   "cell_type": "markdown",
   "metadata": {
    "tags": []
   },
   "source": [
    "<td  style=\"color:rgb(0, 53, 143);font-size:20px;text-align:left;\">\n",
    "<p style=\"color:rgb(0, 53, 143);font-size:20px;\"> Breve resumen de lo que veremos: </p>\n",
    "<ul>\n",
    "    <li>Razones que motivaron la propuesta de un modelo de D.C.C.</li>\n",
    "    <li>¿Cómo es un certificado de calibración hoy?</li>\n",
    "    <li>¿Cuál es la propuesta del D.C.C.?</li>\n",
    "    <li>D-SI</li>\n",
    "    <li>D.C.C.</li>\n",
    "    <li>Features del xml</li>\n",
    "    <li>Firma digital, Encripción,  y Transmisión</li> \n",
    "    <li>¿Qué implica en el mediano plazo y la transición?</li>\n",
    "    <li>Ejemplos de acceso</li>\n",
    "    <li>DCC en un sistema de gestión</li> \n",
    "    <li>Case of uses</li>\n",
    "    <li>Tipos de DCC</li>        \n",
    "</ul>\n",
    "</td>\n"
   ]
  },
  {
   "cell_type": "markdown",
   "metadata": {
    "tags": []
   },
   "source": [
    "<h1 style=\"color:rgb(0, 53, 143);\">Razones que motivaron la propuesta de un modelo de Certificado de Calibración Digital:</h1>\n",
    "<p>&nbsp;</p>\n",
    "<h2 style=\"color:rgb(0, 53, 143);\">En el 2019 se produjo un cambio de unidades...</h2>\n",
    "<p>&nbsp;</p>\n",
    "<a href=\"https://www.bipm.org/en/measurement-units/\"> <img src=\"img/refunidades2.jpg\" alt=\"Drawing\" style=\"width: 400px;\"/></a>\n",
    "<p>&nbsp;</p>\n",
    "<h2  style=\"color:rgb(0, 53, 143);font-size:20px;\">Primera, segunda, tercera y... </h2>\n",
    "<p></p>\n",
    "<p></p>\n",
    "<img src=\"img/Industria4.gif\" alt=\"Drawing\" style=\"width: 400px;\"/>\n",
    "<td><p style=\"color:rgb(0, 53, 143);font-size:20px;\" >Avances tecnológicos como el IA el ML, IPV6, el Digital Twin, Impresoras 3D, Cloud Computing, AGILE.</p>\n",
    "    <p></p>\n",
    "    <p style=\"color:rgb(0, 53, 143);font-size:20px;\">Aplicaciones específicas como el smartcities, smartgrid, 5G, Autos autónomos y muchas más.</p>   \n",
    "    <p></p>\n",
    "    <p></p>\n",
    "    <p style=\"color:rgb(0, 53, 143);font-size:20px;\">Una pregunta queda remanente:</p>\n",
    "    <p></p>\n",
    "    <p>&nbsp;</p>\n",
    "    <p style=\"color:rgb(0, 53, 143);font-size:30px;\">¿Qué lugar tiene la Metrología en las nuevas tecnologías?</p>\n",
    "    <p>&nbsp;</p>\n",
    "    <p>&nbsp;</p>\n",
    "</td>"
   ]
  },
  {
   "cell_type": "markdown",
   "metadata": {
    "tags": []
   },
   "source": [
    "<table>\n",
    "<tr>\n",
    "    <td style=\"color:rgb(0, 53, 143);font-size:15px;\"><h1>Programa Smartcom</h1></td>\n",
    "    <td style=\"color:rgb(0, 53, 143);font-size:15px;\"><h1>Proyecto GEMIMEG II</h1></td>\n",
    "</tr>\n",
    "<tr>\n",
    "        <td><a href=\"https://www.ptb.de/empir2018/smartcom/project/\"><img src=\"img/csm_Atlas_Smartcom_0674091bc1.png\" alt=\"Drawing\" style=\"width: 400px;\"/></a></td>\n",
    "        <td><a href=\"https://www.gemimeg.ptb.de/startseite/\"><img src=\"img/gemimeg.png\" alt=\"Drawing\" style=\"width: 400px;\"/></a></td>\n",
    "</tr>\n",
    "</table>"
   ]
  },
  {
   "cell_type": "markdown",
   "metadata": {},
   "source": [
    "<h2 style=\"color:rgb(0, 53, 143);\" >El Programa SmartCom</h2>\n",
    "    <p style=\"color:rgb(0, 53, 143);font-size:20px;\">- EMPIR 17ind02 (EMPIR = European Metrology Programme for Innovation and Research)</p>\n",
    "    <p style=\"color:rgb(0, 53, 143);font-size:20px;\" >Tiene como objetivo entre otros:</p>\n",
    "    <p style=\"color:rgb(0, 53, 143);font-size:20px;\" >Definir los requerimientos para el intercambio de información metrológica en un formato uniforme, no ambiguo y seguro de los datos en redes de IOT y en la metrología 4.0 en general.</p>\n",
    "<p>&nbsp;</p>"
   ]
  },
  {
   "cell_type": "markdown",
   "metadata": {},
   "source": [
    "<h2 style=\"color:rgb(0, 53, 143);font-size:20px;\">Por otra parte, el proyecto GEMIMEG-II:</h2>\n",
    "<p style=\"color:rgb(0, 53, 143);font-size:20px;\">Tiene la intención de desarrollar estándares para la comunicación segura de datos para la economía alemana. El proyecto GemiMeG se ocupa en parte de generar Sistemas de Medición trazables, seguros y robustos para la transferencia digital de información y se centra también en la distribución y el uso seguros de los datos obtenidos </p>\n",
    "<p>&nbsp;</p>"
   ]
  },
  {
   "cell_type": "markdown",
   "metadata": {},
   "source": [
    "<p style=\"color:rgb(0, 53, 143);font-size:20px;\"> Dicho eso, el SmartCom y el GEMIMEG se unieron para desarrollar el DCC basado en definiciones del SmartCom.</p>\n",
    "\n",
    "<img src=\"img/dccptb.png\" alt=\"Drawing\" style=\"width: 100px;\">\n",
    "<p>&nbsp;</p>\n",
    "\n",
    "<a href=\"https://www.ptb.de/empir2018/met4fof/home/\">MET4FOF></a>\n"
   ]
  },
  {
   "cell_type": "markdown",
   "metadata": {},
   "source": [
    "<p style=\"color:rgb(0, 53, 143);font-size:20px;\">Por otro lado BIPM-CIPM creó un \"Task Group\" con el objetivo de promover el SI en un marco digital, integrado por el Doctor Héctor Laiz(Director de Metrología y Calidad - INTI), Doctor Martin Milton (Director del BIPM), Profesor Joachim Ullrich entre otros.</p>\n",
    "\n",
    "<p style=\"color:rgb(0, 53, 143);font-size:20px;\" >Y como grupo de apoyo creó un Expert Group del cual forma parte Diego Coppa (INTI), Francisco Flamenco (CENAM) entre otros y liderado por Daniel Hutzenroiter (PTB).</p>\n",
    "\n",
    "<a href=\"https://isufddc0221.site.calypso-event.net/\"> <img src=\"img/onlineworkshop.png\" alt=\"Drawing\" style=\"width: 400px;\"/></a>\n",
    "<p>&nbsp;</p>"
   ]
  },
  {
   "cell_type": "markdown",
   "metadata": {},
   "source": [
    "<h2 style=\"color:rgb(0, 53, 143);\">¿Cómo es un certificado de calibración hoy?</h2>\n",
    "\n",
    "<p style=\"color:rgb(0, 53, 143);font-size:20px;\"> Hoy un certificado calibración comunica información metrológica entre humanos(<i>human readable</i>). El Certificado es un documento impreso en un papel especial para evitar su falsificación y posee con una firma olográfica.</p>\n",
    "<p style=\"color:rgb(0, 53, 143);font-size:20px;\" >En el caso de que sea digital, es un documento con en formato <i>pdf</i> con una firma digital. Aunque podría ser <i>machine readable</i>, sería en principio engorrosa su lectura</p>\n",
    "<h3 style=\"color:rgb(0, 53, 143);\">Certificado de ejemplo prestado de la jefatura de Termodinámica:</h3>\n",
    "<p>&nbsp;</p>\n",
    "<img src=\"img/certifpapel.png\" alt=\"Drawing\" style=\"width: 1000px;\"/>\n",
    "<img src=\"img/papel_1.png\" alt=\"Drawing\" style=\"width: 1000px;\"/>\n",
    "<img src=\"img/paper 2.png\" alt=\"Drawing\" style=\"width: 1000px;\"/>\n",
    "<img src=\"img/paper 3.png\" alt=\"Drawing\" style=\"width: 1000px;\"/>\n",
    "<img src=\"img/paper 4.png\" alt=\"Drawing\" style=\"width: 1000px;\"/>\n",
    "<p>&nbsp;</p>\n",
    "\n"
   ]
  },
  {
   "cell_type": "markdown",
   "metadata": {},
   "source": [
    "<h2 style=\"color:rgb(0, 53, 143);\">¿Cuál es la propuesta del D.C.C.?</h2>\n",
    "<p style=\"color:rgb(0, 53, 143);font-size:20px;\">Un D.C.C. es un documento <b>transferible, accesible, seguro, robusto, interoperable, reutilizable <i> machine accionable</i>, capaz de ser entendido por humanos tanto como por máquinas y capaz de almacenar metada (datos que describen datos) como cualquier otra información que se requiera o sea útil metrológica o administrativamente</b>.</p>\n",
    "\n",
    "<p style=\"color:rgb(0, 53, 143);font-size:20px;\">La propuesta del P.T.B. es utilizar un formato xml, firmado digitalmente y encriptado.</p>\n",
    "\n",
    "<p style=\"color:rgb(0, 53, 143);font-size:20px;\">Y así es como se vería un D.C.C. en crudo:</p>\n",
    "\n",
    "<img src=\"img/xmldcc2.png\" alt=\"Drawing\" style=\"width: 700px;\"/>\n",
    "<p>&nbsp;</p>\n",
    "<center><p style=\"color:rgb(0, 53, 143);font-size:30px;text-align:center;\">¡No desesperen!</p></center>\n",
    "<p>&nbsp;</p>\n",
    "<table>\n",
    "    <tr>\n",
    "        <td><img src=\"img/stay calm.png\" alt=\"Drawing\" style=\"width: 325px;\"/></td>\n",
    "        <td><img src=\"img/staykeep mease.png\" alt=\"Drawing\" style=\"width: 275px;\"/></td>\n",
    "    </tr>\n",
    "</table>   \n",
    " "
   ]
  },
  {
   "cell_type": "markdown",
   "metadata": {},
   "source": [
    "<h2 style=\"color:rgb(0, 53, 143);\"> En orden para llegar a un Certificado Digital necesitamos...¿Unidades digitales? más bien, un D-SI</h2>\n",
    "\n",
    "\n",
    "<p style=\"color:rgb(0, 53, 143);font-size:20px;\">Surge la necesidad de comunicar información metrológica entre entes (máquinas por ejemplo). </p>\n",
    "<p style=\"color:rgb(0, 53, 143);font-size:20px;\" >Para llevar esto a cabo, se requiere una interoperabilidad semántica de datos entre sistemas que asegure una consistencia de datos.\n",
    "Por interoperabilidad semántica nos referimos a que dichos sistemas reconozcan de forma unívoca un dato compartido entre ellos.</p>\n",
    "\n",
    "<p style=\"color:rgb(0, 53, 143);font-size:20px;\"> Por supuesto, no vamos a reinventar la rueda: <b>El SI es la base de la interoperabilidad en la trazabilidad metrológica.</b> </p>"
   ]
  },
  {
   "cell_type": "markdown",
   "metadata": {},
   "source": [
    "<p style=\"color:rgb(0, 53, 143);font-size:20px;\">Antes que nada definimos el <i>el medio</i> con el que vamos a transferir la información metrológica</p>\n",
    "\n",
    "<img src=\"img/xmlicono.png\" alt=\"Drawing\" style=\"width: 50px;\"/>\n",
    "\n",
    "<a href=\"https://www.w3schools.com/xml/\"><img src=\"img/w3school.png\" alt=\"Drawing\" style=\"width: 300px;\"/></a> \n",
    "\n",
    "<p style=\"color:rgb(0, 53, 143);font-size:20px;\">La propuesta es utilizar el formato <i>machine reable xml</i> como un formato lo suficientemente robusto y consistente para la comunicación</p>\n",
    "<p style=\"color:rgb(0, 53, 143);font-size:20px;\">XML significa: Lenguaje de marcado extensible, <i> eXtensible Markup Language</i>. Es un lenguaje o metalenguaje que lleva más de veinte años siendo utlizado por bases de datos y otros usos</p>\n",
    "<p style=\"color:rgb(0, 53, 143);font-size:20px;\">El libro XML Bible se escribió en 1999 y el lenguaje no ha cambiado significativamente desde entonces.</p>\n",
    "\n",
    "<p style=\"color:rgb(0, 53, 143);font-size:20px;\"> Como dijimos previamente, requerimos que se identiquen unívocamente la información transmitida. Para lo que el lenguaje xml utiliza los símbolos: mayor y menor para declarar campos y tabuladores para definir <i>parents</i> y <i>childs</i>.</p>\n",
    "<p style=\"color:rgb(0, 53, 143);font-size:20px;\">Por ejemplo:</p>\n",
    "\n"
   ]
  },
  {
   "cell_type": "code",
   "execution_count": 36,
   "metadata": {},
   "outputs": [
    {
     "ename": "SyntaxError",
     "evalue": "invalid syntax (<ipython-input-36-3e8c62ed4541>, line 1)",
     "output_type": "error",
     "traceback": [
      "\u001b[0;36m  File \u001b[0;32m\"<ipython-input-36-3e8c62ed4541>\"\u001b[0;36m, line \u001b[0;32m1\u001b[0m\n\u001b[0;31m    <dcc:person id=\"Técnico\">\u001b[0m\n\u001b[0m    ^\u001b[0m\n\u001b[0;31mSyntaxError\u001b[0m\u001b[0;31m:\u001b[0m invalid syntax\n"
     ]
    }
   ],
   "source": [
    "<dcc:person id=\"Técnico\">\n",
    "    <dcc:name>Diego Coppa</dcc:name>\n",
    "    <dcc:eMail>dcoppa@inti.gob.ar</dcc:eMail>\n",
    "    <dcc:phone>(5411) 4724-6200 int 6933</dcc:phone>\n",
    "    <dcc:location>\n",
    "        <dcc:city>Provincia de Buenos Aires</dcc:city>\n",
    "        <dcc:countryCode>AR</dcc:countryCode>\n",
    "        <dcc:postCode>B1650WAB</dcc:postCode>\n",
    "        <dcc:state>Argentina</dcc:state>\n",
    "        <dcc:street>Av. General Paz</dcc:street>\n",
    "        <dcc:streetNo>5445</dcc:streetNo>\n",
    "        <dcc:further>\n",
    "            <dcc:content>San Martín</dcc:content>\n",
    "        </dcc:further>\n",
    "    </dcc:location>\n",
    "</dcc:person>"
   ]
  },
  {
   "cell_type": "markdown",
   "metadata": {},
   "source": [
    "<p style=\"color:rgb(0, 53, 143);font-size:20px;\"> Ya definido el medio, utilizamos la misma lógica para digitalizar las unidades </p>\n",
    "\n",
    "\n",
    "<table style=\"margin: 0 auto;\">\n",
    "  <tr>\n",
    "    <td style=\"color:rgb(0, 53, 143);font-size:20px;text-align:center;\"><b>Magnitud</b></td>\n",
    "    <td style=\"color:rgb(0, 53, 143);font-size:20px;text-align:center;\"><b>Nombre de la unidad</b></td>\n",
    "    <td style=\"color:rgb(0, 53, 143);font-size:20px;text-align:center;\"><b>Símbolo</b></td>\n",
    "    <td style=\"color:rgb(0, 53, 143);font-size:20px;text-align:center;\"><b>Identificador xml</b></td>\n",
    "  </tr>\n",
    "  <tr>\n",
    "    <td style=\"color:rgb(0, 53, 143);font-size:20px;text-align:center;\">lenght</td>\n",
    "    <td style=\"color:rgb(0, 53, 143);font-size:20px;text-align:center;\">meter</td>\n",
    "    <td style=\"color:rgb(0, 53, 143);font-size:20px;text-align:center;\">m</td>\n",
    "    <td style=\"color:rgb(0, 53, 143);font-size:20px;text-align:center;\">\\meter</td>\n",
    "  </tr>\n",
    "  <tr>\n",
    "    <td style=\"color:rgb(0, 53, 143);font-size:20px;text-align:center;\">mass</td>\n",
    "    <td style=\"color:rgb(0, 53, 143);font-size:20px;text-align:center;\">kilogram</td>\n",
    "    <td style=\"color:rgb(0, 53, 143);font-size:20px;text-align:center;\">kg</td>\n",
    "    <td style=\"color:rgb(0, 53, 143);font-size:20px;text-align:center;\">\\kilogram</td>\n",
    "  </tr>\n",
    "  <tr>\n",
    "    <td style=\"color:rgb(0, 53, 143);font-size:20px;text-align:center;\">time</td>\n",
    "    <td style=\"color:rgb(0, 53, 143);font-size:20px;text-align:center;\">second</td>\n",
    "    <td style=\"color:rgb(0, 53, 143);font-size:20px;text-align:center;\">s</td>\n",
    "    <td style=\"color:rgb(0, 53, 143);font-size:20px;text-align:center;\">\\second</td>\n",
    "  </tr>\n",
    "  <tr>\n",
    "    <td style=\"color:rgb(0, 53, 143);font-size:20px;text-align:center;\">current</td>\n",
    "    <td style=\"color:rgb(0, 53, 143);font-size:20px;text-align:center;\">ampere</td>\n",
    "    <td style=\"color:rgb(0, 53, 143);font-size:20px;text-align:center;\">A</td>\n",
    "    <td style=\"color:rgb(0, 53, 143);font-size:20px;text-align:center;\">\\ampere</td>\n",
    "  </tr>\n",
    "  <tr>\n",
    "    <td style=\"color:rgb(0, 53, 143);font-size:20px;text-align:center;\">thermodinamic temperature</td>\n",
    "    <td style=\"color:rgb(0, 53, 143);font-size:20px;text-align:center;\">kelvin</td>\n",
    "    <td style=\"color:rgb(0, 53, 143);font-size:20px;text-align:center;\">K</td>\n",
    "    <td style=\"color:rgb(0, 53, 143);font-size:20px;text-align:center;\">\\kelvin</td>\n",
    "  </tr>\n",
    "  <tr>\n",
    "    <td style=\"color:rgb(0, 53, 143);font-size:20px;text-align:center;\">amount of substance</td>\n",
    "    <td style=\"color:rgb(0, 53, 143);font-size:20px;text-align:center;\">mole</td>\n",
    "    <td style=\"color:rgb(0, 53, 143);font-size:20px;text-align:center;\">mol</td>\n",
    "    <td style=\"color:rgb(0, 53, 143);font-size:20px;text-align:center;\">\\mole</td>\n",
    "  </tr>\n",
    "  <tr>\n",
    "    <td style=\"color:rgb(0, 53, 143);font-size:20px;text-align:center;\">luminous intensity</td>\n",
    "    <td style=\"color:rgb(0, 53, 143);font-size:20px;text-align:center;\">candela</td>\n",
    "    <td style=\"color:rgb(0, 53, 143);font-size:20px;text-align:center;\">cd</td>\n",
    "    <td style=\"color:rgb(0, 53, 143);font-size:20px;text-align:center;\">\\candela</td>\n",
    "  </tr>\n",
    "</table>\n",
    "\n",
    "<a href=\"img/Digital_System_of_Units_D-SI_2019-11-04_UK_NPL_SmartCom.pdf\"></a>\n"
   ]
  },
  {
   "cell_type": "code",
   "execution_count": null,
   "metadata": {},
   "outputs": [],
   "source": [
    "<si:real>\n",
    "    <si:label>temperature</si:label>\n",
    "    <si:value>20.1</si:value>\n",
    "    <si:unit>\\degreecelsius</si:unit>\n",
    "    <si:expandedUnc>\n",
    "        <si:uncertainty>0.5</si:uncertainty>\n",
    "        <si:coverageFactor>0.95</si:coverageFactor>\n",
    "        <si:distribution>normal</si:distribution>\n",
    "    </si:expandedUnc>\n",
    "</si:real>"
   ]
  },
  {
   "cell_type": "markdown",
   "metadata": {},
   "source": [
    "<p  style=\"color:rgb(0, 53, 143);font-size:20px;\">Definimos parámetros generales, pero todavía falta definir el D.C.C.</p>\n",
    "<h2 style=\"color:rgb(0, 53, 143);\">D.C.C.</h2>\n",
    "<p style=\"color:rgb(0, 53, 143);font-size:20px;\"> Hasta ahora definimos las magnitudes e un contexto xml así como también la medición de una temperatura.</p>\n",
    "<p style=\"color:rgb(0, 53, 143);font-size:20px;\">La propuesta mas elaborada del DCC tiene como punto de partida cuatro capas de información</p>\n",
    "\n",
    "\n",
    "<a href=\"https://www.ptb.de/dcc/v2.3.0/en/\"> <img src=\"img/main structure.png\" alt=\"Drawing\" style=\"width: 700px;\"> </a>\n",
    "\n",
    "<img src=\"img/indodcc.png\" alt=\"Drawing\" style=\"width: 700px;\">\n"
   ]
  },
  {
   "cell_type": "markdown",
   "metadata": {},
   "source": [
    "<p  style=\"color:rgb(0, 53, 143);font-size:20px;\"> Ahora bien, digamos que definimos todos los campos requeridos por un certificado en un xml. </p>\n",
    "<p  style=\"color:rgb(0, 53, 143);font-size:20px;\">¿Cómo continuo? </p>\n",
    "<h2  style=\"color:rgb(0, 53, 143);font-size:20px;\">Features del xml:</h2>\n",
    "<ul>\n",
    "    <li style=\"color:rgb(0, 53, 143);font-size:20px;\">Expandible</li>\n",
    "    <li style=\"color:rgb(0, 53, 143);font-size:20px;\">Puede ser validado</li>\n",
    "</ul>\n",
    "<p  style=\"color:rgb(0, 53, 143);font-size:20px;\"> Que sea expandible quiere decir que puede agregarse cualquier tipo de información dentro. El key de la transmisión de datos es que la contraparte le pueda asignar un significado unívoco a lo que uno le transmite o quiera dejar asentado en el documento.</p>\n",
    "<p  style=\"color:rgb(0, 53, 143);font-size:20px;\"> A través de los campos no regulados uno puede agregar por ejemplo el certificado anterior, el budget de incertidumbre que se utilizó para llegar a los valores de la calibración, los valores crudos medidos del patrón y del equipo bajo calibración. Cualquier información que uno desee transmitir y <b>conviene</b> guardar toda la información que uno desee. </p> \n",
    "<p>&nbsp;</p>\n",
    "<img src=\"img/metadata.png\" alt=\"Drawing\" style=\"width: 500px;\">\n",
    "\n",
    "<p  style=\"color:rgb(0, 53, 143);font-size:20px;\">El xml puede validarse a través de otro documento que lleva como extensión \".xsd\", este formato tiene su propio lenguaje y también está definido en el w3c.</p>\n",
    "   \n",
    "<a href=\"https://www.w3schools.com/xml/schema_intro.asp\"><img src=\"img/w3school.png\" alt=\"Drawing\" style=\"width: 300px;\"/></a>\n",
    "<p  style=\"color:rgb(0, 53, 143);font-size:20px;\"> El xml es tán extensible, que podés generar tus propios \".xsd\" para validar tu certificado.</p>\n"
   ]
  },
  {
   "cell_type": "markdown",
   "metadata": {},
   "source": [
    "<h2 style=\"color:rgb(0, 53, 143);\">Firma digital, Encripción, y Transmisión</h2>\n",
    "<p style=\"color:rgb(0, 53, 143);font-size:20px;\">Para que un documento sea confiable debe tener una firma electrónica segura, confiable, consistente.</p>\n",
    "<p style=\"color:rgb(0, 53, 143);font-size:20px;\">La firma electrónica la regulan los estados de los países</p>\n",
    "\n",
    "<a href=\"https://www.argentina.gob.ar/jefatura/innovacion-publica/administrativa/firmadigital\"> <img src=\"img/firma1.png\" alt=\"Drawing\" style=\"width: 50px;\"> </a>"
   ]
  },
  {
   "cell_type": "markdown",
   "metadata": {},
   "source": [
    "<p style=\"color:rgb(0, 53, 143);font-size:20px;\"> En cuanto a la encripción no existe una propuesta en concreta.</p>"
   ]
  },
  {
   "cell_type": "markdown",
   "metadata": {},
   "source": [
    "<p style=\"color:rgb(0, 53, 143);font-size:20px;\">En cuanto a la transmisión y almacenaje, el documento puede almacenarse en una blockchain, filechain o enviado por mail.</p>"
   ]
  },
  {
   "cell_type": "markdown",
   "metadata": {},
   "source": [
    "<h2 style=\"color:rgb(0, 53, 143);\"> ¿Qué implica en el mediano plazo y la transición?</h2>"
   ]
  },
  {
   "cell_type": "markdown",
   "metadata": {},
   "source": [
    "<p style=\"color:rgb(0, 53, 143);font-size:20px;\">La intención del CIPM es, que a mediano plazo, el xml no vaya asociado con un pdf <i>human readable</i>. El certificado que se firma digitalmente y se encripta va a ser el documento xml.</p>\n",
    "\n",
    "<p style=\"color:rgb(0, 53, 143);font-size:20px;\">Durante la transición, el pdf irá asociado al xml. En cuanto a la firma del pdf que se inserta dentro del xml no entra dentro de los requerimientos del DCC.</p>\n"
   ]
  },
  {
   "cell_type": "markdown",
   "metadata": {},
   "source": [
    "<h2 style=\"color:rgb(0, 53, 143);\"> Aceso al xml con python - lxml etree </h2>"
   ]
  },
  {
   "cell_type": "markdown",
   "metadata": {},
   "source": [
    "<h3 style=\"color:rgb(0, 53, 143);\"> Iteración </h3>"
   ]
  },
  {
   "cell_type": "code",
   "execution_count": 67,
   "metadata": {},
   "outputs": [
    {
     "name": "stdout",
     "output_type": "stream",
     "text": [
      "name ->  Diego Coppa\n",
      "eMail ->  dcoppa@inti.gob.ar\n",
      "phone ->  (5411) 4724-6200 int 6933\n",
      "city ->  Provincia de Buenos Aires\n",
      "countryCode ->  AR\n",
      "postCode ->  B1650WAB\n",
      "state ->  Argentina\n",
      "street ->  Av. General Paz\n",
      "streetNo ->  5445\n",
      "content ->  San Martín\n"
     ]
    }
   ],
   "source": [
    "from lxml import etree\n",
    "from io import StringIO\n",
    "#import dateutil.parser\n",
    "\n",
    "xml_text=\"<?xml version='1.0'?>\\\n",
    "            <person id='Técnico'>\\\n",
    "\t\t\t\t<name>Diego Coppa</name>\\\n",
    "\t\t\t\t<eMail>dcoppa@inti.gob.ar</eMail>\\\n",
    "\t\t\t\t<phone>(5411) 4724-6200 int 6933</phone>\\\n",
    "\t\t\t\t<location>\\\n",
    "\t\t\t\t\t<city>Provincia de Buenos Aires</city>\\\n",
    "\t\t\t\t\t<countryCode>AR</countryCode>\\\n",
    "\t\t\t\t\t<postCode>B1650WAB</postCode>\\\n",
    "\t\t\t\t\t<state>Argentina</state>\\\n",
    "\t\t\t\t\t<street>Av. General Paz</street>\\\n",
    "\t\t\t\t\t<streetNo>5445</streetNo>\\\n",
    "\t\t\t\t\t<further>\\\n",
    "\t\t\t\t\t\t<content>San Martín</content>\\\n",
    "\t\t\t\t\t</further>\\\n",
    "\t\t\t\t</location>\\\n",
    "\t\t\t</person> \"\n",
    "\n",
    "def parseXML():\n",
    "        elem_tree=etree.parse(StringIO(xml_text))\n",
    "        for tag in elem_tree.iter():\n",
    "            if not len(tag):\n",
    "                print(tag.tag , \"-> \", tag.text)\n",
    "            \n",
    "if __name__ == \"__main__\":\n",
    "    parseXML()\n",
    "    \n",
    "    "
   ]
  },
  {
   "cell_type": "markdown",
   "metadata": {},
   "source": [
    "<h3 style=\"color:rgb(0, 53, 143);\"> Por path </h3>"
   ]
  },
  {
   "cell_type": "code",
   "execution_count": 70,
   "metadata": {},
   "outputs": [
    {
     "name": "stdout",
     "output_type": "stream",
     "text": [
      "name ->  Diego Coppa\n"
     ]
    }
   ],
   "source": [
    "from lxml import etree\n",
    "from io import StringIO\n",
    "import dateutil.parser\n",
    "\n",
    "xml_text=\"<?xml version='1.0'?>\\\n",
    "            <person id='Técnico'>\\\n",
    "\t\t\t\t<name>Diego Coppa</name>\\\n",
    "\t\t\t\t<eMail>dcoppa@inti.gob.ar</eMail>\\\n",
    "\t\t\t\t<phone>(5411) 4724-6200 int 6933</phone>\\\n",
    "\t\t\t\t<location>\\\n",
    "\t\t\t\t\t<city>Provincia de Buenos Aires</city>\\\n",
    "\t\t\t\t\t<countryCode>AR</countryCode>\\\n",
    "\t\t\t\t\t<postCode>B1650WAB</postCode>\\\n",
    "\t\t\t\t\t<state>Argentina</state>\\\n",
    "\t\t\t\t\t<street>Av. General Paz</street>\\\n",
    "\t\t\t\t\t<streetNo>5445</streetNo>\\\n",
    "\t\t\t\t\t<further>\\\n",
    "\t\t\t\t\t\t<content>San Martín</content>\\\n",
    "\t\t\t\t\t</further>\\\n",
    "\t\t\t\t</location>\\\n",
    "\t\t\t</person> \"\n",
    "\n",
    "path=\"/person/name\"\n",
    "\n",
    "def parseXML():\n",
    "        elem_tree=etree.parse(StringIO(xml_text))\n",
    "        r=elem_tree.xpath(path)\n",
    "        print(r[0].tag, \"-> \", r[0].text)\n",
    "        \n",
    "if __name__ == \"__main__\":\n",
    "    parseXML()\n",
    "    \n",
    "\n"
   ]
  },
  {
   "cell_type": "code",
   "execution_count": 72,
   "metadata": {},
   "outputs": [
    {
     "name": "stdout",
     "output_type": "stream",
     "text": [
      "receiptDate ->  2020-02-27T00:37:01\n"
     ]
    }
   ],
   "source": [
    "# -*- coding: utf-8 -*-\n",
    "\n",
    "from lxml import etree\n",
    "from io import StringIO, BytesIO\n",
    "import dateutil.parser\n",
    "\n",
    "#path_a=\"/dcc:digitalCalibrationCertificate/dcc:administrativeData/dcc:dccSoftware/dcc:software[@id='INTI-DCC4F']/dcc:release\"\n",
    "#path_a=\"/dcc:digitalCalibrationCertificate/dcc:administrativeData/dcc:coreData/dcc:receiptDate\"\n",
    "#path_a=\"/dcc:digitalCalibrationCertificate/dcc:administrativeData/dcc:items\"\n",
    "#path_a=\"/dcc:digitalCalibrationCertificate/dcc:administrativeData/dcc:coreData/dcc:receiptDate/dcc:description[@id='DCCbyDC']/dcc:content[@lang='es']\"\n",
    "path_a=\"/dcc:digitalCalibrationCertificate/dcc:administrativeData/dcc:coreData/dcc:receiptDate\"\n",
    "\n",
    "def parseXML(xmlFile):\n",
    "    with open(xmlFile) as fobj:\n",
    "        xml_str = fobj.read() # devuelve string\n",
    "        elem_tree=etree.parse(StringIO(xml_str)) # devuelve elementr tree\n",
    "        r=elem_tree.xpath(path_a,namespaces={'dcc': 'https://ptb.de/dcc' })\n",
    "        data=str(r[0].tag)\n",
    "        print(data[data.find(\"}\")+1:], \"-> \", r[0].text)\n",
    "\n",
    "if __name__ == \"__main__\":\n",
    "    parseXML(\"xml/calibracion.xml\")"
   ]
  },
  {
   "cell_type": "markdown",
   "metadata": {},
   "source": [
    "<h2 style=\"color:rgb(0, 53, 143);\">DCC en un sistema de gestión</h2>"
   ]
  },
  {
   "cell_type": "markdown",
   "metadata": {},
   "source": [
    "<p style=\"color:rgb(0, 53, 143);font-size:20px;\">La creación de un certificado, sea el DCC o el actual, está muy entrelazado al sistema de gestión administrativo que cada laboratorio tenga.</p>\n",
    "<p style=\"color:rgb(0, 53, 143);font-size:20px;\">Reditúa en tiempo y en plata la automatización del certificado como también la automatización de las mediciones en general.</p>"
   ]
  },
  {
   "cell_type": "code",
   "execution_count": null,
   "metadata": {},
   "outputs": [],
   "source": [
    "<h2 style=\"color:rgb(0, 53, 143);\">DCC en un sistema de gestión</h2>"
   ]
  },
  {
   "cell_type": "markdown",
   "metadata": {},
   "source": [
    "<h2>Armé un D.C.C. ¿Cómo sigo?</h2>\n",
    "\n",
    "<img src=\"img/calipclouddcc.png\" alt=\"Drawing\" style=\"width: 500px;\">\n",
    "<p>&nbsp;</p>\n"
   ]
  },
  {
   "cell_type": "code",
   "execution_count": null,
   "metadata": {},
   "outputs": [],
   "source": [
    "\n",
    "Autocalibraciones de redes de sensores dónde los sensores son inaccesible por ejemplo\n",
    "IOT sensors Redes de sensores\n",
    "\n",
    "\n",
    "\n",
    "http://www.qudt.org/pages/QUDTgoals.html\n",
    "\n",
    "https://ci.mines-stetienne.fr/lindt/v3/custom_datatypes\n",
    "\n",
    "https://www.pidapalooza.org/upcoming-festival\n",
    "    \n",
    "DCR, DCA, DCmC OIML está empujando en Metrología Legal  "
   ]
  }
 ],
 "metadata": {
  "kernelspec": {
   "display_name": "Python 3",
   "language": "python",
   "name": "python3"
  },
  "language_info": {
   "codemirror_mode": {
    "name": "ipython",
    "version": 3
   },
   "file_extension": ".py",
   "mimetype": "text/x-python",
   "name": "python",
   "nbconvert_exporter": "python",
   "pygments_lexer": "ipython3",
   "version": "3.8.5"
  }
 },
 "nbformat": 4,
 "nbformat_minor": 5
}
