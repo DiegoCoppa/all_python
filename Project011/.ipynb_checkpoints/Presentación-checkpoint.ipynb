{
 "cells": [
  {
   "cell_type": "markdown",
   "metadata": {
    "slideshow": {
     "slide_type": "slide"
    },
    "tags": []
   },
   "source": [
    "<h1 style=\"color:rgb(0, 53, 143);font-size:40px;text-align:center;\">\n",
    "<img src=\"img/presentación.png\" alt=\"Drawing\" style=\"width: 1200px;\"/>\n",
    "</h1>"
   ]
  },
  {
   "cell_type": "raw",
   "metadata": {
    "slideshow": {
     "slide_type": "-"
    }
   },
   "source": [
    "<script>\n",
    "    function findAncestor (el, name) {\n",
    "        while ((el = el.parentElement) && el.nodeName.toLowerCase() !== name);\n",
    "        return el;\n",
    "    }\n",
    "    function colorAll(el, textColor) {\n",
    "        el.style.color = textColor;\n",
    "        Array.from(el.children).forEach((e) => {colorAll(e, textColor);});\n",
    "    }\n",
    "    function setBackgroundImage(src, textColor) {\n",
    "        var section = findAncestor(document.currentScript, \"section\");\n",
    "        if (section) {\n",
    "            section.setAttribute(\"data-background-image\", src);\n",
    "\t\t\tif (textColor) colorAll(section, textColor);\n",
    "        }\n",
    "    }\n",
    "</script>\n",
    "\n"
   ]
  },
  {
   "cell_type": "markdown",
   "metadata": {
    "slideshow": {
     "slide_type": "slide"
    },
    "tags": []
   },
   "source": [
    "<script>\n",
    "    setBackgroundImage(\"img/dofon8.png\", \"white\");\n",
    "</script>\n",
    "\n",
    "\n",
    "<td  style=\"color:rgb(0, 53, 143);font-size:20px;text-align:left;font-family:Montserrat;\">\n",
    "<p style=\"color:rgb(0, 53, 143);font-size:25px;font-family:Montserrat;\"> Breve resumen: </p>\n",
    "<ul style=\"color:rgb(0, 53, 143);font-size:25px;font-family:Montserrat;\">\n",
    "    <li>Razones que motivaron la propuesta de un modelo de DCC</li>\n",
    "    <li>¿Cómo es un certificado de calibración hoy?</li>\n",
    "    <li>¿Cuál es la propuesta?</li>\n",
    "    <li>D-SI</li>\n",
    "    <li>DCC</li>\n",
    "    <li>Características del xml</li>\n",
    "    <li>Firma digital, Encripción,  y Transmisión</li> \n",
    "    <li>¿Qué implica en el mediano plazo y la transición?</li>\n",
    "    <li>Case of uses</li>\n",
    "</ul>\n",
    "</td>"
   ]
  },
  {
   "cell_type": "markdown",
   "metadata": {
    "slideshow": {
     "slide_type": "slide"
    },
    "tags": []
   },
   "source": [
    "<script>\n",
    "    setBackgroundImage(\"img/dofon8.png\", \"white\");\n",
    "</script>\n",
    "\n",
    "\n",
    "<table>\n",
    "    <tr>\n",
    "    <td style=\"color:rgb(0, 53, 143);font-size:25px;font-family:Montserrat;\">                     \n",
    "        <p>Ing. Diego Nahuel Coppa</p>\n",
    "        <p>Departamento de Flujo y Volumen</p>\n",
    "        <p>Centro de Metrología Física</p>\n",
    "        <p>Gerencia Operativa de Metrología y Calidad</p>\n",
    "        <p>email: dcoppa@inti.gob.ar</p>\n",
    "    </td>\n",
    "<td><img src=\"img/Isologotipo.jpg\" alt=\"Drawing\" style=\"width: 400px;\"/></td>\n",
    "</tr>\n",
    "</table>"
   ]
  },
  {
   "cell_type": "markdown",
   "metadata": {
    "slideshow": {
     "slide_type": "slide"
    },
    "tags": []
   },
   "source": [
    "<script>\n",
    "    setBackgroundImage(\"img/dofon8.png\", \"white\");\n",
    "    from IPython.display import HTML\n",
    "    HTML(''.format(open('/media/diego/E4D5-3D001/02.Trabajo/Python/all_python/Project011/css/style.css').read()))\n",
    "</script>\n",
    "\n",
    "<h1 style=\"color:rgb(0, 53, 143);font-family:Montserrat;\">Razones que motivaron la propuesta de un modelo de DCC</h1>\n",
    "<p style=\"color:rgb(0, 53, 143);font-size:20px;font-family:Montserrat;\" > DCC (Digital Calibration Certificate). Un Certificado Digital con el D-SI como núcleo.</p>\n",
    "<table>\n",
    "    <tr>\n",
    "    <td>                     \n",
    "        <p style=\"color:rgb(0, 53, 143);font-size:20px;font-family:Montserrat;\">En el 2019 se produjo un cambio de unidades...</p>\n",
    "    </td>\n",
    "    <td>\n",
    "        <a href=\"https://www.bipm.org/en/measurement-units/\"><img src=\"img/refunidades2.jpg\" alt=\"Drawing\" style=\"width: 200px;\"/></a>\n",
    "    </td>\n",
    "</tr>\n",
    "</table>\n",
    "<h2  style=\"color:rgb(0, 53, 143);font-size:20px;font-family:Montserrat;\">Primera, segunda, tercera y... </h2>\n",
    "<table>\n",
    "    <tr>\n",
    "        <td>\n",
    "           <img src=\"img/Industria4.gif\" alt=\"Drawing]\" style=\"width: 200px;\"/>\n",
    "        </td>\n",
    "        <td>                     \n",
    "            <p style=\"color:rgb(0, 53, 143);font-size:20px;font-family:Montserrat;\" >Inteligencia Artificial, Aprendizaje de máquinas (Machine Learning),  Gemelos Digitales, Impresoras 3D, \"Cloud Computing\", AGILE, Ciudades inteligentes, Redes eléctricas inteligentes, 5G + IPV6, Autos autónomos, Big Data y muchas más.</p>\n",
    "        </td>\n",
    "    </tr>\n",
    "</table>"
   ]
  },
  {
   "cell_type": "markdown",
   "metadata": {
    "slideshow": {
     "slide_type": "slide"
    },
    "tags": []
   },
   "source": [
    "<script>\n",
    "    setBackgroundImage(\"img/dofon8.png\", \"white\");\n",
    "</script>\n",
    "\n",
    "<h1 style=\"color:rgb(0, 53, 143);font-family:Montserrat;\"> Un camino: el DCC </h1>\n",
    "<p  style=\"color:rgb(0, 53, 143);font-size:25px;font-family:Montserrat;\">Esta propuesta fue aceptada por la Unión Europea y se creó el programa Smartcom bajo su órbita. Luego el proyecto fue tomado el Proyecto GEMIMEG (consorcio entre empresas privadas y el PTB).\n",
    "<p  style=\"color:rgb(0, 53, 143);font-size:25px;font-family:Montserrat;\">El INTI está trabajando en conjunto con el GEMIMEG para una propuesta final del DCC.</p>\n",
    "<p style=\"color:rgb(0, 53, 143);font-size:25px;font-family:Montserrat;\">\n",
    "<table>\n",
    "<tr>\n",
    "    <td><h1 style=\"color:rgb(0, 53, 143);font-size:15px;font-family:Montserrat;\">Programa Smartcom</h1></td>\n",
    "    <td><h1 style=\"color:rgb(0, 53, 143);font-size:15px;font-family:Montserrat;\">Proyecto GEMIMEG II</h1></td>\n",
    "</tr>\n",
    "<tr>\n",
    "        <td><a href=\"https://www.ptb.de/empir2018/smartcom/project/\"><img src=\"img/csm_Atlas_Smartcom_0674091bc1.png\" alt=\"Drawing\" style=\"width: 200px;font-family:Montserrat;\"/></a></td>\n",
    "        <td><a href=\"https://www.gemimeg.ptb.de/startseite/\"><img src=\"img/gemimeg.png\" alt=\"Drawing\" style=\"width: 200px;\"/></a></td>\n",
    "</tr>\n",
    "</table>\n",
    "</p>"
   ]
  },
  {
   "cell_type": "markdown",
   "metadata": {
    "slideshow": {
     "slide_type": "slide"
    }
   },
   "source": [
    "<script>\n",
    "    setBackgroundImage(\"img/dofon8.png\", \"white\");\n",
    "</script>\n",
    "\n",
    "\n",
    "<h2 style=\"color:rgb(0, 53, 143);font-family:Montserrat;\"> BIPM-CIPM</h2>\n",
    "<p style=\"color:rgb(0, 53, 143);font-size:20px;font-family:Montserrat;\">BIPM-CIPM creó un <i>Grupo de Tareas</i> (Task Group) con el objetivo de promover el \"SI en un marco digital\". Integrado por el Doctor Héctor Laiz por parte del INTI y de otros INMs de todo el mundo, por ejemplo de Alemania, Estados Unidos, China entre otros</p>\n",
    "<p style=\"text-align:center;\"><a href=\"https://isufddc0221.site.calypso-event.net/\"> <img src=\"img/onlineworkshop.png\" alt=\"Drawing\" style=\"width: 400px;float:right;\"/></a></p>\n",
    "<p style=\"color:rgb(0, 53, 143);font-size:20px;font-family:Montserrat;\" >Y como grupo de apoyo al TG se creó el <i>Grupo de Expertos</i> (Expert Group) del cual forma parte Diego Coppa, con apoyo de los INMs de México, Alemania, Corea del sur entre otros.</p>\n",
    "<p  style=\"color:rgb(0, 53, 143);font-size:25px;font-family:Montserrat;\">El CIPM, el máximo organismo de la metrología, está analizando la propuesta del DCC para su aprobación. El DCC es un trabajo en progreso.</p>\n",
    "\n"
   ]
  },
  {
   "cell_type": "markdown",
   "metadata": {
    "slideshow": {
     "slide_type": "slide"
    }
   },
   "source": [
    "<script>\n",
    "    setBackgroundImage(\"img/dofon8.png\", \"white\");\n",
    "</script>\n",
    "\n",
    "<h2 style=\"color:rgb(0, 53, 143);font-family:Montserrat;\">¿Cómo es un certificado de calibración hoy?</h2>\n",
    "<p>&nbsp;</p>\n",
    "<p style=\"color:rgb(0, 53, 143);font-size:25px;font-family:Montserrat;\"> Hoy un certificado calibración comunica información metrológica entre humanos, <i>legible por humanos</i> (human readable). El Certificado es un documento <i>impreso en papel</i> puede estar impreso en un papel especial para evitar su falsificación y posee con una <i>firma holográfica</i>.</p>\n",
    "<p style=\"color:rgb(0, 53, 143);font-size:25px;font-family:Montserrat;\" >En el caso de que sea en un formato digital, es certificado es un documento con un formato <i>pdf</i> con una firma digital. Aunque podría ser machine readable, sería en principio engorrosa su lectura.</p>\n",
    "\n",
    "\n"
   ]
  },
  {
   "cell_type": "markdown",
   "metadata": {
    "slideshow": {
     "slide_type": "slide"
    }
   },
   "source": [
    "<script>\n",
    "    setBackgroundImage(\"img/dofon8.png\", \"white\");\n",
    "</script>\n",
    "\n",
    "<h3 style=\"color:rgb(0, 53, 143);font-family:Montserrat;\">Certificado de ejemplo, prestado de la Departamento de Termodinámica:</h3>\n",
    "<img src=\"img/certifpapel2.png\" alt=\"Drawing\" style=\"width: 1000px;\"/>"
   ]
  },
  {
   "cell_type": "markdown",
   "metadata": {
    "slideshow": {
     "slide_type": "slide"
    }
   },
   "source": [
    "<script>\n",
    "    setBackgroundImage(\"img/dofon8.png\", \"white\");\n",
    "</script>\n",
    "\n",
    "<img src=\"img/papel_1.png\" alt=\"Drawing\" style=\"width: 1400px;\"/>\n"
   ]
  },
  {
   "cell_type": "markdown",
   "metadata": {
    "slideshow": {
     "slide_type": "slide"
    }
   },
   "source": [
    "<script>\n",
    "    setBackgroundImage(\"img/dofon8.png\", \"white\");\n",
    "</script>\n",
    "\n",
    "\n",
    "<img src=\"img/paper 2.png\" alt=\"Drawing\" style=\"width: 1400px;\"/>\n"
   ]
  },
  {
   "cell_type": "markdown",
   "metadata": {
    "slideshow": {
     "slide_type": "slide"
    }
   },
   "source": [
    "<script>\n",
    "    setBackgroundImage(\"img/dofon8.png\", \"white\");\n",
    "</script>\n",
    "\n",
    "<img src=\"img/paper 3.png\" alt=\"Drawing\" style=\"width: 1400px;\"/>\n"
   ]
  },
  {
   "cell_type": "markdown",
   "metadata": {
    "slideshow": {
     "slide_type": "slide"
    }
   },
   "source": [
    "<script>\n",
    "    setBackgroundImage(\"img/dofon8.png\", \"white\");\n",
    "</script>\n",
    "\n",
    "<img src=\"img/paper5.png\" alt=\"Drawing\" style=\"width: 1000px;\"/>"
   ]
  },
  {
   "cell_type": "markdown",
   "metadata": {
    "slideshow": {
     "slide_type": "slide"
    }
   },
   "source": [
    "<script>\n",
    "    setBackgroundImage(\"img/dofon8.png\", \"white\");\n",
    "</script>\n",
    "<h2 style=\"color:rgb(0, 53, 143);font-family:Montserrat;\">¿Cuál es la propuesta superadora respecto al certificado?</h2>\n",
    "<a href=\"https://www.go-fair.org/\"><img src=\"img/gofair.png\" alt=\"Drawing\" style=\"width: 200px;float:right;\"></a>\n",
    "<p style=\"color:rgb(0, 53, 143);font-size:25px;font-family:Montserrat;\">Un DCC debe ser un documento <b>transferible, accesible, seguro, robusto, interoperable, reutilizable, machine accionable, capaz de ser entendido por humanos tanto como por máquinas y capaz de almacenar metada (datos que describen datos) como cualquier otra información que se requiera o sea útil metrológica o administrativamente</b>.</p>\n",
    "\n",
    "\n"
   ]
  },
  {
   "cell_type": "markdown",
   "metadata": {
    "slideshow": {
     "slide_type": "slide"
    }
   },
   "source": [
    "<script>\n",
    "    setBackgroundImage(\"img/dofon8.png\", \"white\");\n",
    "</script>\n",
    "<p style=\"color:rgb(0, 53, 143);font-size:25px;font-family:Montserrat;\"><img src=\"img/dcc.png\" alt=\"Drawing\" style=\"width: 100px;float:left\" >La propuesta es utilizar un formato <i>legible por máquinas</i> (machine readable) capaz de ser <i>firmado digitalmente</i> y de ser <i>encriptado</i>.</p> \n",
    "</p><img src=\"img/xmlicono.png\" alt=\"Drawing\" style=\"width: 50px;float:right\"> <p style=\"color:rgb(0, 53, 143);font-size:25px;font-family:Montserrat;\">El formato elegido para la transferencia de datos es el formato <i>xml</i>.\n"
   ]
  },
  {
   "cell_type": "markdown",
   "metadata": {
    "slideshow": {
     "slide_type": "slide"
    }
   },
   "source": [
    "<script>\n",
    "    setBackgroundImage(\"img/dofon8.png\", \"white\");\n",
    "</script>\n",
    "\n",
    "<p style=\"color:rgb(0, 53, 143);font-size:25px;font-family:Montserrat;\">Y así es como se vería un Certificado en el formato xml en crudo:</p>\n",
    "<img src=\"img/xmldcc3.png\" alt=\"Drawing\" style=\"width: 700px;\"/>"
   ]
  },
  {
   "cell_type": "markdown",
   "metadata": {
    "slideshow": {
     "slide_type": "slide"
    }
   },
   "source": [
    "<script>\n",
    "    setBackgroundImage(\"img/dofon8.png\", \"white\");\n",
    "</script>\n",
    "<center><p style=\"color:rgb(0, 53, 143);font-size:50px;text-align:center;font-family:Montserrat;\">¡No desesperen!</p></center>\n",
    "<table>\n",
    "    <tr>\n",
    "        <td><img src=\"img/stay calm.png\" alt=\"Drawing\" style=\"width: 325px;\"/></td>\n",
    "        <td><img src=\"img/staykeep mease.png\" alt=\"Drawing\" style=\"width: 275px;\"/></td>\n",
    "    </tr>\n",
    "</table> "
   ]
  },
  {
   "cell_type": "markdown",
   "metadata": {
    "slideshow": {
     "slide_type": "slide"
    }
   },
   "source": [
    "<script>\n",
    "    setBackgroundImage(\"img/dofon8.png\", \"white\");\n",
    "</script>\n",
    "<p style=\"color:rgb(0, 53, 143);font-size:25px;font-family:Montserrat;\">Para desarmar este embrollo, tenemos que entender el medio o el <i>formato</i> con el que vamos a transferir la información metrológica.</p>\n",
    "<a href=\"https://www.w3schools.com/xml/\"><img src=\"img/w3school.png\" alt=\"Drawing\" style=\"width: 200px;float:right\"/></a>\n",
    "<p style=\"color:rgb(0, 53, 143);font-size:25px;font-family:Montserrat;\">La propuesta es utilizar el formato plano,  legible por máquinas, encriptable y firmable digitalmente, como es el <i>xml</i>.\n",
    "<p style=\"color:rgb(0, 53, 143);font-size:25px;font-family:Montserrat;\">el XML es similar al formato HTML (Hypertext Markup Language) y puede ser editable con cualquier procesador de texto.</p>\n"
   ]
  },
  {
   "cell_type": "markdown",
   "metadata": {
    "slideshow": {
     "slide_type": "slide"
    }
   },
   "source": [
    "<script>\n",
    "    setBackgroundImage(\"img/dofon8.png\", \"white\");\n",
    "</script>\n",
    "\n",
    "<p style=\"color:rgb(0, 53, 143);font-size:25px;font-family:Montserrat;\">XML significa: Lenguaje de marcado extensible, <i> eXtensible Markup Language</i>. Es un lenguaje o metalenguaje que lleva más de veinte años siendo utilizado por bases de datos y otros usos. Un libro llamado \"XML Bible\" se escribió en 1999 y el lenguaje no ha cambiado significativamente desde entonces.</p>\n",
    "<img src=\"img/xmlicono.png\" alt=\"Drawing\" style=\"width: 50px;float:right\"><p style=\"color:rgb(0, 53, 143);font-size:25px;font-family:Montserrat;\"> Se requiere transmitir unívocamente la información, para lo que el lenguaje xml utiliza los símbolos: <i>mayor</i> y <i>menor</i> para declarar <i>campos</i> y <i>tabuladores</i> para definir jerarquías (en forma de árbol) entre campos que llamamos  <i>padres</i> e <i>hijos</i>. Esta gobernación de padres e hijos es muy importante y es en lo que se basa el esquema DCC.</p>"
   ]
  },
  {
   "cell_type": "markdown",
   "metadata": {
    "slideshow": {
     "slide_type": "slide"
    }
   },
   "source": [
    "<script>\n",
    "    setBackgroundImage(\"img/dofon8.png\", \"white\");\n",
    "</script>\n",
    "\n",
    "<p style=\"color:rgb(0, 53, 143);font-size:25px;font-family:Montserrat;\"> Ejemplo de la descripción del rol de una persona:</p>"
   ]
  },
  {
   "cell_type": "code",
   "execution_count": null,
   "metadata": {
    "slideshow": {
     "slide_type": "fragment"
    }
   },
   "outputs": [],
   "source": [
    "#Por ejemplo:\n",
    "<dcc:person id=\"Técnico\">\n",
    "    <dcc:name>Diego Coppa</dcc:name>\n",
    "    <dcc:eMail>dcoppa@inti.gob.ar</dcc:eMail>\n",
    "    <dcc:phone>(5411) 4724-6200 int 6933</dcc:phone>\n",
    "    <dcc:location>\n",
    "        <dcc:city>Provincia de Buenos Aires</dcc:city>\n",
    "        <dcc:countryCode>AR</dcc:countryCode>\n",
    "        <dcc:postCode>B1650WAB</dcc:postCode>\n",
    "        <dcc:state>Argentina</dcc:state>\n",
    "        <dcc:street>Av. General Paz</dcc:street>\n",
    "        <dcc:streetNo>5445</dcc:streetNo>\n",
    "        <dcc:further>\n",
    "            <dcc:content>San Martín</dcc:content>\n",
    "        </dcc:further>\n",
    "    </dcc:location>\n",
    "</dcc:person>"
   ]
  },
  {
   "cell_type": "markdown",
   "metadata": {
    "slideshow": {
     "slide_type": "slide"
    }
   },
   "source": [
    "<script>\n",
    "    setBackgroundImage(\"img/dofon8.png\", \"white\");\n",
    "</script>\n",
    "<h3 style=\"color:rgb(0, 53, 143);font-family:Montserrat;\"> Definido el medio o el formato, ahora necesitamos definir ¿unidades digitales? más bien un D-SI</h3>\n",
    "<p style=\"font-size:35px;font-family:Montserrat;text-align:center\"><span style='color: red'>D</span><span style='color:rgb(0, 53, 143)'>-SI</span></p>\n",
    "<a href=\"https://www.bipm.org/en/measurement-units/\"><img src=\"img/refunidades2.jpg\" alt=\"Drawing\" style=\"width: 200px;float:right;\"/></a>\n",
    "<p style=\"color:rgb(0, 53, 143);font-size:25px;font-family:Montserrat;\"> Surge la necesidad de comunicar información metrológica entre entes (máquinas por ejemplo)</p>\n",
    "<p style=\"color:rgb(0, 53, 143);font-size:25px;font-family:Montserrat;\"> Y para llevar esto acabo, se requiere de una interoperabilidad semántica de datos entre sistemas que asegure una consistencia de datos. Por interoperabilidad semántica me refiero a que <b>los sistemas reconozcan de forma unívoca un dato compartido entre ellos</b>.</p>"
   ]
  },
  {
   "cell_type": "markdown",
   "metadata": {
    "slideshow": {
     "slide_type": "slide"
    }
   },
   "source": [
    "<script>\n",
    "    setBackgroundImage(\"img/dofon8.png\", \"white\");\n",
    "</script>\n",
    "<p style=\"color:rgb(0, 53, 143);font-size:25px;font-family:Montserrat;\"> Por supuesto, no vamos a reinventar la rueda: <i>El SI es la base de la interoperabilidad en la trazabilidad metrológica.</i></p>\n",
    "<p style=\"font-size:45px;font-family:Montserrat;text-align:center\"><span style='color: red'>D</span><span style='color:rgb(0, 53, 143)'>-SI</span></p>"
   ]
  },
  {
   "cell_type": "markdown",
   "metadata": {
    "slideshow": {
     "slide_type": "slide"
    }
   },
   "source": [
    "<script>\n",
    "    setBackgroundImage(\"img/dofon8.png\", \"white\");\n",
    "</script>\n",
    "<p style=\"color:rgb(0, 53, 143);font-size:25px;font-family:Montserrat;\">  Ahora, contextualizamos las unidades definidas en el SI, en el formato xml</p>\n"
   ]
  },
  {
   "cell_type": "markdown",
   "metadata": {
    "slideshow": {
     "slide_type": "fragment"
    }
   },
   "source": [
    "<p>&nbsp;</p>\n",
    "<table style=\"margin: 0 right;\">\n",
    "  <tr style=\"color:rgb(0, 53, 143);font-size:25px;text-align:center;font-family:Montserrat;\">\n",
    "    <td style=\"color:rgb(0, 53, 143);font-size:25px;text-align:center;font-family:Montserrat;\"><b>Magnitud</b></td>\n",
    "    <td style=\"color:rgb(0, 53, 143);font-size:25px;text-align:center;font-family:Montserrat;\"><b>Nombre de la unidad</b></td>\n",
    "    <td style=\"color:rgb(0, 53, 143);font-size:25px;text-align:center;font-family:Montserrat;\"><b>Símbolo</b></td>\n",
    "    <td style=\"color:rgb(0, 53, 143);font-size:25px;text-align:center;font-family:Montserrat;\"><b>Identificador xml</b></td>\n",
    "  </tr>\n",
    "  <tr>\n",
    "    <td style=\"color:rgb(0, 53, 143);font-size:25px;text-align:center;font-family:Montserrat;\">lenght</td>\n",
    "    <td style=\"color:rgb(0, 53, 143);font-size:25px;text-align:center;font-family:Montserrat;\">meter</td>\n",
    "    <td style=\"color:rgb(0, 53, 143);font-size:25px;text-align:center;font-family:Montserrat;\">m</td>\n",
    "    <td style=\"color:rgb(0, 53, 143);font-size:25px;text-align:center;font-family:Montserrat;\">\\meter</td>\n",
    "  </tr>\n",
    "  <tr>\n",
    "    <td style=\"color:rgb(0, 53, 143);font-size:25px;text-align:center;font-family:Montserrat;\">mass</td>\n",
    "    <td style=\"color:rgb(0, 53, 143);font-size:25px;text-align:center;font-family:Montserrat;\">kilogram</td>\n",
    "    <td style=\"color:rgb(0, 53, 143);font-size:25px;text-align:center;font-family:Montserrat;\">kg</td>\n",
    "    <td style=\"color:rgb(0, 53, 143);font-size:25px;text-align:center;font-family:Montserrat;\">\\kilogram</td>\n",
    "  </tr>\n",
    "  <tr>\n",
    "    <td style=\"color:rgb(0, 53, 143);font-size:25px;text-align:center;font-family:Montserrat;\">time</td>\n",
    "    <td style=\"color:rgb(0, 53, 143);font-size:25px;text-align:center;font-family:Montserrat;\">second</td>\n",
    "    <td style=\"color:rgb(0, 53, 143);font-size:25px;text-align:center;font-family:Montserrat;\">s</td>\n",
    "    <td style=\"color:rgb(0, 53, 143);font-size:25px;text-align:center;font-family:Montserrat;\">\\second</td>\n",
    "  </tr>\n",
    "  <tr>\n",
    "    <td style=\"color:rgb(0, 53, 143);font-size:25px;text-align:center;font-family:Montserrat;\">current</td>\n",
    "    <td style=\"color:rgb(0, 53, 143);font-size:25px;text-align:center;font-family:Montserrat;\">ampere</td>\n",
    "    <td style=\"color:rgb(0, 53, 143);font-size:25px;text-align:center;font-family:Montserrat;\">A</td>\n",
    "    <td style=\"color:rgb(0, 53, 143);font-size:25px;text-align:center;font-family:Montserrat;\">\\ampere</td>\n",
    "  </tr>\n",
    "  <tr>\n",
    "    <td style=\"color:rgb(0, 53, 143);font-size:25px;text-align:center;font-family:Montserrat;\">thermodinamic temperature</td>\n",
    "    <td style=\"color:rgb(0, 53, 143);font-size:25px;text-align:center;font-family:Montserrat;\">kelvin</td>\n",
    "    <td style=\"color:rgb(0, 53, 143);font-size:25px;text-align:center;font-family:Montserrat;\">K</td>\n",
    "    <td style=\"color:rgb(0, 53, 143);font-size:25px;text-align:center;font-family:Montserrat;\">\\kelvin</td>\n",
    "  </tr>\n",
    "  <tr>\n",
    "    <td style=\"color:rgb(0, 53, 143);font-size:25px;text-align:center;font-family:Montserrat;\">amount of substance</td>\n",
    "    <td style=\"color:rgb(0, 53, 143);font-size:25px;text-align:center;font-family:Montserrat;\">mole</td>\n",
    "    <td style=\"color:rgb(0, 53, 143);font-size:25px;text-align:center;font-family:Montserrat;\">mol</td>\n",
    "    <td style=\"color:rgb(0, 53, 143);font-size:25px;text-align:center;font-family:Montserrat;\">\\mole</td>\n",
    "  </tr>\n",
    "  <tr>\n",
    "    <td style=\"color:rgb(0, 53, 143);font-size:25px;text-align:center;font-family:Montserrat;\">luminous intensity</td>\n",
    "    <td style=\"color:rgb(0, 53, 143);font-size:25px;text-align:center;font-family:Montserrat;\">candela</td>\n",
    "    <td style=\"color:rgb(0, 53, 143);font-size:25px;text-align:center;font-family:Montserrat;\">cd</td>\n",
    "    <td style=\"color:rgb(0, 53, 143);font-size:25px;text-align:center;font-family:Montserrat;\">\\candela</td>\n",
    "  </tr>\n",
    "</table>"
   ]
  },
  {
   "cell_type": "markdown",
   "metadata": {
    "slideshow": {
     "slide_type": "slide"
    }
   },
   "source": [
    "<script>\n",
    "    setBackgroundImage(\"img/dofon8.png\", \"white\");\n",
    "</script>\n",
    "<p style=\"color:rgb(0, 53, 143);font-size:25px;font-family:Montserrat;\"> Y, con la misma intención, pasamos al formato xml una medición de temperatura</p>"
   ]
  },
  {
   "cell_type": "code",
   "execution_count": null,
   "metadata": {
    "slideshow": {
     "slide_type": "fragment"
    }
   },
   "outputs": [],
   "source": [
    "<si:real>\n",
    "    <si:label>temperature</si:label>\n",
    "    <si:value>20.1</si:value>\n",
    "    <si:unit>\\degreecelsius</si:unit>\n",
    "    <si:expandedUnc>\n",
    "        <si:uncertainty>0.5</si:uncertainty>\n",
    "        <si:coverageFactor>0.95</si:coverageFactor>\n",
    "        <si:distribution>normal</si:distribution>\n",
    "    </si:expandedUnc>\n",
    "</si:real>"
   ]
  },
  {
   "cell_type": "markdown",
   "metadata": {
    "slideshow": {
     "slide_type": "slide"
    }
   },
   "source": [
    "<script>\n",
    "    setBackgroundImage(\"img/dofon8.png\", \"white\");\n",
    "</script>\n",
    "<p style=\"color:rgb(0, 53, 143);font-size:25px;font-family:Montserrat;\">Y un ejemplo de unidades derivadas:</p>\n",
    "<table style=\"margin: 0 right;\">\n",
    "  <tr>\n",
    "    <td style=\"color:rgb(0, 53, 143);font-size:25px;text-align:center;font-family:Montserrat;\"><b>Unidad medida</b></td>\n",
    "    <td style=\"color:rgb(0, 53, 143);font-size:25px;text-align:center;font-family:Montserrat;\"><b>Representación simbólica</b></td>\n",
    "    <td style=\"color:rgb(0, 53, 143);font-size:25px;text-align:center;font-family:Montserrat;\"><b>Representación en el formato de unidades del SI</b></td>\n",
    "    </tr>\n",
    "  <tr>\n",
    "    <td style=\"color:rgb(0, 53, 143);font-size:25px;text-align:center;font-family:Montserrat;\">Radian</td>\n",
    "    <td style=\"color:rgb(0, 53, 143);font-size:25px;text-align:center;font-family:Montserrat;\">$\\frac{m}{m}$</td>\n",
    "    <td style=\"color:rgb(0, 53, 143);font-size:25px;text-align:center;font-family:Montserrat;\">\\metre\\metre\\tothe{-1}</td>\n",
    "  </tr>\n",
    "  <tr>\n",
    "    <td style=\"color:rgb(0, 53, 143);font-size:25px;text-align:center;font-family:Montserrat;\">Pascal</td>\n",
    "    <td style=\"color:rgb(0, 53, 143);font-size:25px;text-align:center;font-family:Montserrat;\">$\\frac{kg}{m s^2}$</td>\n",
    "    <td style=\"color:rgb(0, 53, 143);font-size:25px;text-align:center;font-family:Montserrat;\">\\kilogram\\metre\\tothe{-1}\\second\\tothe{-2}</td>\n",
    "  </tr>\n",
    "  <tr>\n",
    "    <td style=\"color:rgb(0, 53, 143);font-size:25px;text-align:center;font-family:Montserrat;\">Newton</td>\n",
    "    <td style=\"color:rgb(0, 53, 143);font-size:25px;text-align:center;font-family:Montserrat;\">$\\frac{m.kg}{s^2}$</td>\n",
    "    <td style=\"color:rgb(0, 53, 143);font-size:25px;text-align:center;font-family:Montserrat;\">\\meter\\kilogram\\second\\tothe{-2}\\</td>\n",
    "  </tr>\n",
    "  <tr>\n",
    "    <td style=\"color:rgb(0, 53, 143);font-size:25px;text-align:center;font-family:Montserrat;\">Ohm</td>\n",
    "    <td style=\"color:rgb(0, 53, 143);font-size:25px;text-align:center;font-family:Montserrat;\">$\\frac{m^2 .kg}{s^3 A^2}$</td>\n",
    "    <td style=\"color:rgb(0, 53, 143);font-size:25px;text-align:center;font-family:Montserrat;\">\\meter\\tothe{-2}\\kilogram\\second\\tothe{-3}\\ampere\\tothe{-2}</td>\n",
    "  </tr>\n",
    "</table>\n",
    "<p style=\"text-align:center;\">\n",
    "    <a href=\"pdf/Digital_System_of_Units_D-SI_2019-11-04_UK_NPL_SmartCom.pdf\"><img src=\"img/schema.png\" alt=\"Drawing\" style=\"width: 700px;\"></a>\n",
    "</p>"
   ]
  },
  {
   "cell_type": "markdown",
   "metadata": {
    "slideshow": {
     "slide_type": "slide"
    }
   },
   "source": [
    "<script>\n",
    "    setBackgroundImage(\"img/dofon8.png\", \"white\");\n",
    "</script>\n",
    "<h2 style=\"color:rgb(0, 53, 143);font-family:Montserrat;\">DCC</h2>\n",
    "<p style=\"color:rgb(0, 53, 143);font-size:25px;font-family:Montserrat;\"> Hasta ahora mostré un ejemplo de certificado hoy, definí el rol de una persona y sus atributos, las unidades y la medición de una temperatura en contexto xml.</p>\n",
    "\n",
    "<table>\n",
    "    <tr>\n",
    "        <td><p style=\"color:rgb(0, 53, 143);font-size:25px;font-family:Montserrat;\">La propuesta mas elaborada del DCC tiene como punto de partida cuatro capas de información.</p></td>\n",
    "        <td><a href=\"https://www.ptb.de/dcc/v2.4.0/en/\"> <img src=\"img/main structure.png\" alt=\"Drawing\" style=\"width: 2000px;\"> </a></td>\n",
    "    </tr>\n",
    "\n",
    "</table>"
   ]
  },
  {
   "cell_type": "markdown",
   "metadata": {
    "slideshow": {
     "slide_type": "slide"
    }
   },
   "source": [
    "<script>\n",
    "    setBackgroundImage(\"img/dofon8.png\", \"white\");\n",
    "</script>\n",
    "<p style=\"color:rgb(0, 53, 143);font-size:25px;font-family:Montserrat;\"> Ahora bien, digamos que definimos todos los campos requeridos por un certificado en un xml. </p>\n",
    "<p  style=\"color:rgb(0, 53, 143);font-size:25px;font-family:Montserrat;\">¿Cómo continúo? </p>\n",
    "<h2  style=\"color:rgb(0, 53, 143);font-size:25px;font-family:Montserrat;\">Características del formato xml:</h2>\n",
    "<ul>\n",
    "    <li style=\"color:rgb(0, 53, 143);font-size:25px;font-family:Montserrat;\">Expandible o extensible</li>\n",
    "    <li style=\"color:rgb(0, 53, 143);font-size:25px;font-family:Montserrat;\">Puede ser validado</li>\n",
    "</ul>\n"
   ]
  },
  {
   "cell_type": "markdown",
   "metadata": {
    "slideshow": {
     "slide_type": "slide"
    }
   },
   "source": [
    "<script>\n",
    "    setBackgroundImage(\"img/dofon8.png\", \"white\");\n",
    "</script>\n",
    "<h2 style=\"color:rgb(0, 53, 143);font-size:25px;font-family:Montserrat;\">Expandible</h2>\n",
    "\n",
    "<p  style=\"color:rgb(0, 53, 143);font-size:25px;font-family:Montserrat;\"> Que sea expandible quiere decir que puede agregarse cualquier tipo de información dentro. La clave de la transmisión de datos es que la contraparte le pueda asignar un significado unívoco a lo que uno le transmite o quiera dejar asentado en el documento.</p>\n",
    "<img src=\"img/metadata.png\" alt=\"Drawing\" style=\"width: 300px;float:right;\">\n",
    "<p style=\"color:rgb(0, 53, 143);font-size:25px;font-family:Montserrat;\"> A través de los <b>campos no regulados</b> uno puede agregar por ejemplo el certificado anterior, el budget de incertidumbre que se utilizó para llegar a los valores de la calibración, los valores crudos medidos del patrón y del equipo bajo calibración. Cualquier información que uno desee transmitir y que <b>convenga</b> guardar. Y siempre conviene almacenar toda la data y <b>metadata</b> de un trabajo como soporte.</p>\n"
   ]
  },
  {
   "cell_type": "markdown",
   "metadata": {
    "slideshow": {
     "slide_type": "slide"
    }
   },
   "source": [
    "<script>\n",
    "    setBackgroundImage(\"img/dofon8.png\", \"white\");\n",
    "</script>\n",
    "<h2 style=\"color:rgb(0, 53, 143);font-size:25px;font-family:Montserrat;\">El xml debe ser validado para que la comunicación sea estandarizada</h2>\n",
    "<p style=\"color:rgb(0, 53, 143);font-size:25px;font-family:Montserrat;\"> Se <b>debe realizar el control de los campos y el control del árbol de padres e hijos</b> del xml. Este control se realiza a través del formato <b>xsd</b>\n",
    "<a href=\"https://www.w3schools.com/xml/schema_intro.asp\"><img src=\"img/w3school.png\" alt=\"Drawing\" style=\"width: 300px;float:right;\"/></a>\n",
    "<p style=\"color:rgb(0, 53, 143);font-size:25px;font-family:Montserrat;\">El xsd tiene su propio formato y también está definido en el w3consortium.</p>\n",
    "<p  style=\"color:rgb(0, 53, 143);font-size:25px;font-family:Montserrat;\"> A partir de que uno puede extender el xml, o sea definir campos adicionales en lugares especiales. Surge la necesidad de validar los xml extendidos. Para lo cual pueden crearse archivos de formato <b>.xsd</b> para validar el xml.</p>\n",
    "<p   style=\"color:rgb(0, 53, 143);font-size:25px;font-family:Montserrat;\"> La definición del DCC se va a realizar a través del formato xsd.</p>"
   ]
  },
  {
   "cell_type": "markdown",
   "metadata": {
    "slideshow": {
     "slide_type": "slide"
    }
   },
   "source": [
    "<script>\n",
    "    setBackgroundImage(\"img/dofon8.png\", \"white\");\n",
    "</script>\n",
    "<h2 style=\"color:rgb(0, 53, 143);font-family:Montserrat;\">Firma digital, Encripción, y Transmisión.</h2>\n",
    "\n",
    "<p style=\"color:rgb(0, 53, 143);font-size:25px;font-family:Montserrat;\">Para que un documento sea confiable debe tener una firma electrónica segura, confiable, consistente.</p>\n",
    "<p style=\"color:rgb(0, 53, 143);font-size:25px;font-family:Montserrat;\">La firma electrónica la regulan los estados de los países.</p>\n",
    "<table>\n",
    "    <tr>\n",
    "        <td><a href=\"https://www.argentina.gob.ar/jefatura/innovacion-publica/administrativa/firmadigital\"> <img src=\"img/firma1.png\" alt=\"Drawing\" style=\"width: 100px;font-family:Montserrat;\"> </a></td>\n",
    "        <td><a href=\"pdf/05.sensors-20-04730.pdf\"><img src=\"img/signing.png\" alt=\"Drawing\" style=\"width: 500px;\"></a></td>\n",
    "    </tr>\n",
    "</table>\n",
    "<p style=\"color:rgb(0, 53, 143);font-size:10px;font-family:Montserrat;\">Tuukka Mustapää, Pekka Nikander, Daniel Hutzschenreuter y Raine Viitala (2020). Metrological Challenges in Collaborative Sensing: Applicability of Digital Calibration Certificates. <i>sensors-MDPI</i></p>"
   ]
  },
  {
   "cell_type": "markdown",
   "metadata": {
    "slideshow": {
     "slide_type": "slide"
    }
   },
   "source": [
    "<script>\n",
    "    setBackgroundImage(\"img/dofon8.png\", \"white\");\n",
    "</script>\n",
    "<h3 style=\"color:rgb(0, 53, 143);font-family:Montserrat;\">Encripción</h3>\n",
    "\n",
    "<p style=\"color:rgb(0, 53, 143);font-size:25px;font-family:Montserrat;\"> En cuanto a la encripción no existe una propuesta en concreta. Pero se especula con SHA-256.</p>\n",
    "\n",
    "<h3 style=\"color:rgb(0, 53, 143);font-family:Montserrat;\">Transmisión y almacenaje</h3>\n",
    "\n",
    "<p style=\"color:rgb(0, 53, 143);font-size:25px;font-family:Montserrat;\">En cuanto a la transmisión y almacenaje, el \n",
    "    documento puede almacenarse en una blockchain, filechain o enviado por mail.</p>\n",
    "\n",
    "<a href=\"https://bfa.ar/\"><img src=\"img/bfa.png\" alt=\"Drawing\" style=\"width: 150px;float:left;\"></a>\n",
    "\n",
    "<p style=\"color:rgb(0, 53, 143);font-size:25px;font-family:Montserrat;\"> <b>¿Qué implica en el mediano plazo y la transición?</b> La propuesta es que a mediano plazo el xml <i>no vaya asociado con un pdf</i> legible por humanos. El certificado que se firma digitalmente y se encripta va a ser el documento xml.\n",
    "Durante la transición, el pdf irá asociado al xml. En cuanto a la firma del pdf que se inserta dentro del xml no entra dentro de los requerimientos del DCC.</p>\n"
   ]
  },
  {
   "cell_type": "markdown",
   "metadata": {
    "slideshow": {
     "slide_type": "slide"
    }
   },
   "source": [
    "<script>\n",
    "    setBackgroundImage(\"img/dofon8.png\", \"white\");\n",
    "</script>\n",
    "<h2 style=\"color:rgb(0, 53, 143);font-family:Montserrat;\">Armé un D.C.C. ¿Cómo sigo?</h2>\n",
    "<p style=\"text-align:center;font-family:Montserrat;\">\n",
    "<img src=\"img/calipclouddcc.png\" alt=\"Drawing\" style=\"width: 800px;\">\n",
    "</p>\n",
    "<p>&nbsp;</p>\n"
   ]
  },
  {
   "cell_type": "markdown",
   "metadata": {
    "slideshow": {
     "slide_type": "slide"
    }
   },
   "source": [
    "<script>\n",
    "    setBackgroundImage(\"img/dofon8.png\", \"white\");\n",
    "</script>\n",
    "<h3 style=\"color:rgb(0, 53, 143);font-size:25px;\">¿Incorporamos el manual a un protocolo de comunicación para que se transmita digitalmente la incertidumbre según rango, longevidad del instrumento, etc?</h3>\n",
    "<img src=\"img/especificaciones.png\" alt=\"Drawing\" style=\"width: 800px;font-family:Montserrat;\">\n"
   ]
  },
  {
   "cell_type": "markdown",
   "metadata": {
    "slideshow": {
     "slide_type": "slide"
    }
   },
   "source": [
    "<script>\n",
    "    setBackgroundImage(\"img/dofon8.png\", \"white\");\n",
    "</script>\n",
    "<p style=\"color:rgb(0, 53, 143);font-size:25px;font-family:Montserrat;\">Redes de sensores</p>\n",
    "<img src=\"img/networksensors.png\" alt=\"Drawing\" style=\"width: 800px;font-family:Montserrat;\">\n",
    "<p>&nbsp;</p>\n",
    "<p style=\"color:rgb(0, 53, 143);font-size:10px;font-family:Montserrat;\">Tuukka Mustapää, Pekka Nikander, Daniel Hutzschenreuter y Raine Viitala (2020). Metrological Challenges in Collaborative Sensing: Applicability of Digital Calibration Certificates. <i>sensors - MDPI</i> </p>"
   ]
  },
  {
   "cell_type": "markdown",
   "metadata": {
    "slideshow": {
     "slide_type": "slide"
    }
   },
   "source": [
    "<script>\n",
    "    setBackgroundImage(\"img/dofon8.png\", \"white\");\n",
    "</script>\n",
    "\n",
    "<h2 style=\"color:rgb(0, 53, 143);\">Tópicos para preguntas:</h2>\n",
    "<p>&nbsp;</p>\n",
    "<p style=\"color:rgb(0, 53, 143);font-size:25px;font-family:Montserrat;\">Middleware, o ¿cómo implementar en contexto  del sistema de calidad administrativo en DCC?</p>\n",
    "<p>&nbsp;</p>\n",
    "<p style=\"color:rgb(0, 53, 143);font-size:25px;font-family:Montserrat;\">Otros tipos de DCC: DCR, DCA</p>\n",
    "<p>&nbsp;</p>\n",
    "<p style=\"color:rgb(0, 53, 143);font-size:25px;font-family:Montserrat;\">Lectura de un xml/dcc con lxml etree y python</p>"
   ]
  },
  {
   "cell_type": "markdown",
   "metadata": {
    "slideshow": {
     "slide_type": "slide"
    }
   },
   "source": [
    "<script>\n",
    "    setBackgroundImage(\"img/dofon8.png\", \"white\");\n",
    "</script>\n",
    "<img src=\"img/tenor.gif\">\n",
    "<p style=\"color:rgb(0, 53, 143);font-size:50px;text-align:center\">¿Preguntas?</p>\n",
    "<p style=\"color:rgb(0, 53, 143);font-size:20px;\">Bibliografía:</p>\n",
    "<p style=\"color:rgb(0, 53, 143);font-size:10px;\">Tuukka Mustapää, Pekka Nikander, Daniel Hutzschenreuter y Raine Viitala (2020). Metrological Challenges in Collaborative Sensing: Applicability of Digital Calibration Certificates. <i>sensors - MDPI</i> </p>\n",
    "<p style=\"color:rgb(0, 53, 143);font-size:10px;\" >https://lxml.de/tutorial.html https://www.ptb.de/dcc/v2.4.0/en/ https://www.ptb.de/empir2018/smartcom/project/  https://www.bipm.org/en/measurement-units/ https://www.w3schools.com/</p>\n",
    "<p style=\"color:rgb(0, 53, 143);font-size:10px;\">D. Hutzschenreuter (2019). Digital System of Units Digital Calibration Certificate DCC – XML Schema <i>smartcom</i> DOI: 10.5281/zenodo.3522631</p>\n",
    "<p  style=\"color:rgb(0, 53, 143);font-size:10px;\"> http://www.qudt.org/pages/QUDTgoals.html https://ci.mines-stetienne.fr/lindt/v3/custom_datatypes </p>\n",
    "    \n"
   ]
  }
 ],
 "metadata": {
  "celltoolbar": "Slideshow",
  "kernelspec": {
   "display_name": "Python 3",
   "language": "python",
   "name": "python3"
  },
  "language_info": {
   "codemirror_mode": {
    "name": "ipython",
    "version": 3
   },
   "file_extension": ".py",
   "mimetype": "text/x-python",
   "name": "python",
   "nbconvert_exporter": "python",
   "pygments_lexer": "ipython3",
   "version": "3.8.5"
  }
 },
 "nbformat": 4,
 "nbformat_minor": 5
}
