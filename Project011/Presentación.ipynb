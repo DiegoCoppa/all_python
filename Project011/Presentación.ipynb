{
 "cells": [
  {
   "cell_type": "markdown",
   "id": "pediatric-following",
   "metadata": {
    "slideshow": {
     "slide_type": "slide"
    },
    "tags": []
   },
   "source": [
    "<h1 style=\"color:rgb(0, 53, 143);font-size:40px;text-align:center;\">\n",
    "<img src=\"img/presentación.png\" alt=\"Drawing\" style=\"width: 1200px;\"/>\n",
    "</h1>"
   ]
  },
  {
   "cell_type": "markdown",
   "id": "diagnostic-plaintiff",
   "metadata": {
    "slideshow": {
     "slide_type": "slide"
    },
    "tags": []
   },
   "source": [
    "<td  style=\"color:rgb(0, 53, 143);font-size:20px;text-align:left;\">\n",
    "<p style=\"color:rgb(0, 53, 143);font-size:20px;\"> Breve resumen: </p>\n",
    "<ul>\n",
    "    <li>Razones que motivaron la propuesta de un modelo de DCC</li>\n",
    "    <li>¿Cómo es un certificado de calibración hoy?</li>\n",
    "    <li>¿Cuál es la propuesta del DCC?</li>\n",
    "    <li>D-SI</li>\n",
    "    <li>DCC</li>\n",
    "    <li>Features del xml</li>\n",
    "    <li>Firma digital, Encripción,  y Transmisión</li> \n",
    "    <li>¿Qué implica en el mediano plazo y la transición?</li>\n",
    "    <li>Ejemplos de acceso</li>\n",
    "    <li>En un sistema de gestión</li> \n",
    "    <li>Case of uses</li>\n",
    "    <li>Tipos</li>        \n",
    "</ul>\n",
    "</td>\n",
    "<p>&nbsp;</p>\n",
    "<p>&nbsp;</p>\n",
    "<p>&nbsp;</p>\n",
    "<p>&nbsp;</p>\n",
    "<p>&nbsp;</p>\n",
    "<p>&nbsp;</p>\n",
    "<p>&nbsp;</p>\n",
    "<p>&nbsp;</p>\n",
    "<p>&nbsp;</p>"
   ]
  },
  {
   "cell_type": "markdown",
   "id": "focal-orlando",
   "metadata": {
    "slideshow": {
     "slide_type": "slide"
    },
    "tags": []
   },
   "source": [
    "<p>&nbsp;</p>\n",
    "<p>&nbsp;</p>\n",
    "<p>&nbsp;</p>\n",
    "<p>&nbsp;</p>\n",
    "<p>&nbsp;</p>\n",
    "<p>&nbsp;</p>\n",
    "<p>&nbsp;</p>\n",
    "<p>&nbsp;</p>\n",
    "<table>\n",
    "    <tr>\n",
    "    <td style=\"color:rgb(0, 53, 143);font-size:20px;\">                     \n",
    "        <p>Ing. Diego Nahuel Coppa</p>\n",
    "        <p>Departamento de Flujo y Volumen</p>\n",
    "        <p>Centro de Metrología Física</p>\n",
    "        <p>Gerencia Operativa de Metrología y Calidad</p>\n",
    "        <p>email: dcoppa@inti.gob.ar</p>\n",
    "    </td>\n",
    "<td><img src=\"img/Isologotipo.jpg\" alt=\"Drawing\" style=\"width: 400px;\"/></td>\n",
    "</tr>\n",
    "</table>\n",
    "<p>&nbsp;</p>\n",
    "<p>&nbsp;</p>\n",
    "<p>&nbsp;</p>\n",
    "<p>&nbsp;</p>\n",
    "<p>&nbsp;</p>\n",
    "<p>&nbsp;</p>\n",
    "<p>&nbsp;</p>\n",
    "<p>&nbsp;</p>\n",
    "<p>&nbsp;</p>\n",
    "<p>&nbsp;</p>\n",
    "<p>&nbsp;</p>\n",
    "<p>&nbsp;</p>\n",
    "<p>&nbsp;</p>\n",
    "<p>&nbsp;</p>\n",
    "<p>&nbsp;</p>\n",
    "\n"
   ]
  },
  {
   "cell_type": "markdown",
   "id": "clear-wichita",
   "metadata": {
    "tags": []
   },
   "source": [
    "<h1 style=\"color:rgb(0, 53, 143);\">Razones que motivaron la propuesta de un modelo de DCC</h1>\n",
    "<p  style=\"color:rgb(0, 53, 143);font-size:20px;\"> DCC es por sus siglas en inglés: (Digital Calibration Certificate).El DCC es un Certificado de Calibración Digital, pero no a cualquier Certificado digital si no a uno en el contexto del \"SI en un marco digital\"</p>\n",
    "<table>\n",
    "    <tr>\n",
    "    <td>                     \n",
    "        <p style=\"color:rgb(0, 53, 143);font-size:20px;\">En el 2019 se produjo un cambio de unidades...</p>\n",
    "    </td>\n",
    "    <td>\n",
    "        <a href=\"https://www.bipm.org/en/measurement-units/\"><img src=\"img/refunidades2.jpg\" alt=\"Drawing\" style=\"width: 300px;\"/></a>\n",
    "    </td>\n",
    "</tr>\n",
    "</table>\n",
    "<h2  style=\"color:rgb(0, 53, 143);font-size:20px;\">Primera, segunda, tercera y... </h2>\n",
    "<table>\n",
    "    <tr>\n",
    "        <td>\n",
    "           <img src=\"img/Industria4.gif\" alt=\"Drawing]\" style=\"width: 300px;\"/>\n",
    "        </td>\n",
    "        <td>                     \n",
    "            <p style=\"color:rgb(0, 53, 143);font-size:20px;\" >Avances tecnológicos como el IA el ML, IPV6, el Digital Twin, Impresoras 3D, Cloud Computing, AGILE.</p>\n",
    "            <p style=\"color:rgb(0, 53, 143);font-size:20px;\">Aplicaciones específicas como el smartcities, smartgrid, 5G, Autos autónomos y muchas más.</p>\n",
    "        </td>\n",
    "    </tr>\n",
    "</table>\n",
    "    <p style=\"color:rgb(0, 53, 143);font-size:20px;\">Una pregunta queda remanente:</p>\n",
    "    <p></p>\n",
    "    <p>&nbsp;</p>\n",
    "    <p>&nbsp;</p>\n",
    "    <p>&nbsp;</p>\n",
    "    <p>&nbsp;</p>\n",
    "    <p>&nbsp;</p>\n",
    "    <p>&nbsp;</p>\n",
    "    <p>&nbsp;</p>\n",
    "    <p>&nbsp;</p>\n",
    "    <p>&nbsp;</p>\n",
    "    <p>&nbsp;</p>\n",
    "    <p>&nbsp;</p>    \n",
    "    <p>&nbsp;</p>\n",
    "    <p style=\"color:rgb(0, 53, 143);font-size:30px;\">¿Qué lugar tiene la Metrología en las tecnologías 4.0?</p>\n",
    "    <p>&nbsp;</p>\n",
    "    <p>&nbsp;</p>\n",
    "    <p>&nbsp;</p>\n",
    "    <p>&nbsp;</p>\n",
    "    <p>&nbsp;</p>\n",
    "    <p>&nbsp;</p>\n",
    "    <p>&nbsp;</p>\n",
    "    <p>&nbsp;</p>\n",
    "    <p>&nbsp;</p>\n",
    "    <p>&nbsp;</p>\n",
    "    <p>&nbsp;</p>\n",
    "    <p>&nbsp;</p>\n",
    "        <p>&nbsp;</p>\n",
    "    <p>&nbsp;</p>\n",
    "    <p>&nbsp;</p>\n",
    "    <p>&nbsp;</p>"
   ]
  },
  {
   "cell_type": "markdown",
   "id": "hungarian-staff",
   "metadata": {
    "tags": []
   },
   "source": [
    "\n",
    "<p  style=\"color:rgb(0, 53, 143);font-size:20px;\">Para empezar a darle respuesta a esta pregunta, el Instituto Nacional de Metrología Alemán (PTB) inició la propuesta de un <b>Certificado de Calibración Digital (DCC)</b>.</p>\n",
    "<p  style=\"color:rgb(0, 53, 143);font-size:20px;\">Esta propuesta fue aceptada por la unión europea y se creó un programa llamado Smartcom bajo su órbita. Luego esta propuesta  se siguió trabajando en un proyecto llamado GEMIMEG (consorcio entre empresas privadas y el PTB).\n",
    "<p  style=\"color:rgb(0, 53, 143);font-size:20px;\">El INTI está trabajando en conjunto con el GEMIMEG para una propuesta final del DCC.</p>\n",
    "<p  style=\"color:rgb(0, 53, 143);font-size:20px;\">Finalmente, el CIPM, el máximo organismo de la metrología, está analizando la propuesta para su aprobación.</p>\n",
    "\n",
    "\n",
    "\n",
    "<table>\n",
    "<tr>\n",
    "    <td style=\"color:rgb(0, 53, 143);font-size:15px;\"><h1>Programa Smartcom</h1></td>\n",
    "    <td style=\"color:rgb(0, 53, 143);font-size:15px;\"><h1>Proyecto GEMIMEG II</h1></td>\n",
    "</tr>\n",
    "<tr>\n",
    "        <td><a href=\"https://www.ptb.de/empir2018/smartcom/project/\"><img src=\"img/csm_Atlas_Smartcom_0674091bc1.png\" alt=\"Drawing\" style=\"width: 200px;\"/></a></td>\n",
    "        <td><a href=\"https://www.gemimeg.ptb.de/startseite/\"><img src=\"img/gemimeg.png\" alt=\"Drawing\" style=\"width: 200px;\"/></a></td>\n",
    "</tr>\n",
    "</table>"
   ]
  },
  {
   "cell_type": "markdown",
   "id": "electric-print",
   "metadata": {},
   "source": [
    "<p style=\"color:rgb(0, 53, 143);font-size:20px;\">Para atender la propuesta del DCC, BIPM-CIPM creó un <b>Task Group</b> con el objetivo de promover el SI en un marco digital, integrado por el Doctor Héctor Laiz (Director de Metrología y Calidad - INTI), Doctor Martin Milton (Director del BIPM), Profesor Joachim Ullrich entre otros.</p>\n",
    "\n",
    "<p style=\"color:rgb(0, 53, 143);font-size:20px;\" >Y como grupo de apoyo creó un Expert Group del cual forma parte Diego Coppa (INTI), Francisco Flamenco (CENAM) entre otros y liderado por Daniel Hutzschenreuter (PTB).</p>\n",
    "\n",
    "<a href=\"https://isufddc0221.site.calypso-event.net/\"> <img src=\"img/onlineworkshop.png\" alt=\"Drawing\" style=\"width: 400px;\"/></a>\n",
    "<p>&nbsp;</p>"
   ]
  },
  {
   "cell_type": "markdown",
   "id": "featured-holmes",
   "metadata": {},
   "source": [
    "<h2 style=\"color:rgb(0, 53, 143);\">¿Cómo es un certificado de calibración hoy?</h2>\n",
    "<p>&nbsp;</p>\n",
    "<p style=\"color:rgb(0, 53, 143);font-size:20px;\"> Hoy un certificado calibración comunica información metrológica entre humanos(<i>human readable</i>). El Certificado es un documento impreso en un papel especial para evitar su falsificación y posee con una firma holográfica.</p>\n",
    "<p style=\"color:rgb(0, 53, 143);font-size:20px;\" >En el caso de que sea digital, es un documento con un formato <i>pdf</i> con una firma digital. Aunque podría ser <i>machine readable</i>, sería en principio engorrosa su lectura.</p>\n",
    "<h3 style=\"color:rgb(0, 53, 143);\">Certificado de ejemplo prestado de la jefatura de Termodinámica:</h3>\n",
    "\n"
   ]
  },
  {
   "cell_type": "markdown",
   "id": "golden-copyright",
   "metadata": {},
   "source": [
    "<p>&nbsp;</p>\n",
    "<img src=\"img/certifpapel2.png\" alt=\"Drawing\" style=\"width: 1000px;\"/>\n",
    "<img src=\"img/papel_1.png\" alt=\"Drawing\" style=\"width: 1000px;\"/>\n",
    "<img src=\"img/paper 2.png\" alt=\"Drawing\" style=\"width: 1000px;\"/>\n",
    "<img src=\"img/paper 3.png\" alt=\"Drawing\" style=\"width: 1000px;\"/>\n",
    "<img src=\"img/paper5.png\" alt=\"Drawing\" style=\"width: 1000px;\"/>\n",
    "<p>&nbsp;</p>\n"
   ]
  },
  {
   "cell_type": "markdown",
   "id": "piano-strike",
   "metadata": {},
   "source": [
    "<h2 style=\"color:rgb(0, 53, 143);\">¿Cuál es la propuesta superadora respecto al certificado?</h2>\n",
    "<p style=\"color:rgb(0, 53, 143);font-size:20px;\">Un DCC debe ser un documento <b>transferible, accesible, seguro, robusto, interoperable, reutilizable <i> machine accionable</i>, capaz de ser entendido por humanos tanto como por máquinas y capaz de almacenar metada (datos que describen datos) como cualquier otra información que se requiera o sea útil metrológica o administrativamente</b>.</p>\n",
    "<p>&nbsp;</p>\n",
    "<p style=\"color:rgb(0, 53, 143);font-size:20px;\">La propuesta es utilizar un <b>formato digital</b>, <b>firmado digitalmente</b> y <b>encriptado</b>.</p>\n",
    "<p>&nbsp;</p>\n",
    "<p style=\"color:rgb(0, 53, 143);font-size:20px;\">El formato elegido para la transferencia de datos es el formato <i>xml<i></p>\n",
    "<p style=\"color:rgb(0, 53, 143);font-size:20px;\">Y así es como se vería un Certificado en el formato xml en crudo:</p>\n",
    "<p>&nbsp;</p>\n",
    "<img src=\"img/xmldcc2.png\" alt=\"Drawing\" style=\"width: 700px;\"/>\n",
    "<p>&nbsp;</p>\n",
    "<center><p style=\"color:rgb(0, 53, 143);font-size:30px;text-align:center;\">¡No desesperen!</p></center>\n",
    "<p>&nbsp;</p>\n",
    "<table>\n",
    "    <tr>\n",
    "        <td><img src=\"img/stay calm.png\" alt=\"Drawing\" style=\"width: 325px;\"/></td>\n",
    "        <td><img src=\"img/staykeep mease.png\" alt=\"Drawing\" style=\"width: 275px;\"/></td>\n",
    "    </tr>\n",
    "</table>   \n",
    " "
   ]
  },
  {
   "cell_type": "markdown",
   "id": "contrary-means",
   "metadata": {},
   "source": [
    "<p style=\"color:rgb(0, 53, 143);font-size:20px;\">Para desarmar este embrollo, tenemos que entender el <i>medio</i> con el que vamos a transferir la información metrológica.</p>\n",
    "\n",
    "<img src=\"img/xmlicono.png\" alt=\"Drawing\" style=\"width: 50px;\"/>\n",
    "\n",
    "<a href=\"https://www.w3schools.com/xml/\"><img src=\"img/w3school.png\" alt=\"Drawing\" style=\"width: 300px;\"/></a> \n",
    "\n",
    "<p style=\"color:rgb(0, 53, 143);font-size:20px;\">La propuesta es utilizar el formato <i>machine redable xml</i> como un formato robusto y consistente para la comunicación.</p>\n",
    "<p style=\"color:rgb(0, 53, 143);font-size:20px;\">XML significa: Lenguaje de marcado extensible, <i> eXtensible Markup Language</i>. Es un lenguaje o metalenguaje que lleva más de veinte años siendo utilizado por bases de datos y otros usos.</p>\n",
    "<p style=\"color:rgb(0, 53, 143);font-size:20px;\">El libro XML Bible se escribió en 1999 y el lenguaje no ha cambiado significativamente desde entonces.</p>\n",
    "\n",
    "<p style=\"color:rgb(0, 53, 143);font-size:20px;\"> Se requiere transmitir unívocamente la información, para lo que el lenguaje xml utiliza los símbolos: mayor y menor para declarar campos y tabuladores para definir <i>parents</i> y <i>childs</i>. Esta gobernación de parents y childs muy importante y es en lo que se base el esquema DCC.</p>\n",
    "<p style=\"color:rgb(0, 53, 143);font-size:20px;\">Por ejemplo:</p>\n"
   ]
  },
  {
   "cell_type": "code",
   "execution_count": null,
   "id": "common-villa",
   "metadata": {},
   "outputs": [],
   "source": [
    "<dcc:person id=\"Técnico\">\n",
    "    <dcc:name>Diego Coppa</dcc:name>\n",
    "    <dcc:eMail>dcoppa@inti.gob.ar</dcc:eMail>\n",
    "    <dcc:phone>(5411) 4724-6200 int 6933</dcc:phone>\n",
    "    <dcc:location>\n",
    "        <dcc:city>Provincia de Buenos Aires</dcc:city>\n",
    "        <dcc:countryCode>AR</dcc:countryCode>\n",
    "        <dcc:postCode>B1650WAB</dcc:postCode>\n",
    "        <dcc:state>Argentina</dcc:state>\n",
    "        <dcc:street>Av. General Paz</dcc:street>\n",
    "        <dcc:streetNo>5445</dcc:streetNo>\n",
    "        <dcc:further>\n",
    "            <dcc:content>San Martín</dcc:content>\n",
    "        </dcc:further>\n",
    "    </dcc:location>\n",
    "</dcc:person>"
   ]
  },
  {
   "cell_type": "markdown",
   "id": "interracial-tuition",
   "metadata": {},
   "source": [
    "<p>&nbsp;</p>\n",
    "<p>&nbsp;</p>\n",
    "<p>&nbsp;</p>\n",
    "<h2 style=\"color:rgb(0, 53, 143);\"> En orden para llegar a un Certificado Digital necesitamos...¿Unidades digitales? más bien, un D-SI</h2>"
   ]
  },
  {
   "cell_type": "markdown",
   "id": "reserved-seeking",
   "metadata": {},
   "source": [
    "<p  style=\"color:rgb(0, 53, 143);font-size:20px;\">Para transmitir información metrológica entre entes (máquinas por ejemplo),  se requiere de una interoperabilidad semántica entre sistemas que asegure una consistencia de datos. Por \"interoperabilidad semántica\" me refiero a que dichos sistemas reconozcan de forma unívoca un dato compartido entre ellos.</p>\n",
    "\n",
    "<p  style=\"color:rgb(0, 53, 143);font-size:20px;\">Por supuesto, no vamos a reinventar la rueda: <b>El SI es la base de la interoperabilidad en la trazabilidad metrológica.</b></p>\n",
    "\n",
    "<p style=\"color:rgb(0, 53, 143);font-size:20px;\">  Ahora, contextualizamos las unidades definidas en el SI, en el formato <i>xml</i></p>\n",
    "<p>&nbsp;</p>\n",
    "<table style=\"margin: 0 right;\">\n",
    "  <tr>\n",
    "    <td style=\"color:rgb(0, 53, 143);font-size:20px;text-align:center;\"><b>Magnitud</b></td>\n",
    "    <td style=\"color:rgb(0, 53, 143);font-size:20px;text-align:center;\"><b>Nombre de la unidad</b></td>\n",
    "    <td style=\"color:rgb(0, 53, 143);font-size:20px;text-align:center;\"><b>Símbolo</b></td>\n",
    "    <td style=\"color:rgb(0, 53, 143);font-size:20px;text-align:center;\"><b>Identificador xml</b></td>\n",
    "  </tr>\n",
    "  <tr>\n",
    "    <td style=\"color:rgb(0, 53, 143);font-size:20px;text-align:center;\">lenght</td>\n",
    "    <td style=\"color:rgb(0, 53, 143);font-size:20px;text-align:center;\">meter</td>\n",
    "    <td style=\"color:rgb(0, 53, 143);font-size:20px;text-align:center;\">m</td>\n",
    "    <td style=\"color:rgb(0, 53, 143);font-size:20px;text-align:center;\">\\meter</td>\n",
    "  </tr>\n",
    "  <tr>\n",
    "    <td style=\"color:rgb(0, 53, 143);font-size:20px;text-align:center;\">mass</td>\n",
    "    <td style=\"color:rgb(0, 53, 143);font-size:20px;text-align:center;\">kilogram</td>\n",
    "    <td style=\"color:rgb(0, 53, 143);font-size:20px;text-align:center;\">kg</td>\n",
    "    <td style=\"color:rgb(0, 53, 143);font-size:20px;text-align:center;\">\\kilogram</td>\n",
    "  </tr>\n",
    "  <tr>\n",
    "    <td style=\"color:rgb(0, 53, 143);font-size:20px;text-align:center;\">time</td>\n",
    "    <td style=\"color:rgb(0, 53, 143);font-size:20px;text-align:center;\">second</td>\n",
    "    <td style=\"color:rgb(0, 53, 143);font-size:20px;text-align:center;\">s</td>\n",
    "    <td style=\"color:rgb(0, 53, 143);font-size:20px;text-align:center;\">\\second</td>\n",
    "  </tr>\n",
    "  <tr>\n",
    "    <td style=\"color:rgb(0, 53, 143);font-size:20px;text-align:center;\">current</td>\n",
    "    <td style=\"color:rgb(0, 53, 143);font-size:20px;text-align:center;\">ampere</td>\n",
    "    <td style=\"color:rgb(0, 53, 143);font-size:20px;text-align:center;\">A</td>\n",
    "    <td style=\"color:rgb(0, 53, 143);font-size:20px;text-align:center;\">\\ampere</td>\n",
    "  </tr>\n",
    "  <tr>\n",
    "    <td style=\"color:rgb(0, 53, 143);font-size:20px;text-align:center;\">thermodinamic temperature</td>\n",
    "    <td style=\"color:rgb(0, 53, 143);font-size:20px;text-align:center;\">kelvin</td>\n",
    "    <td style=\"color:rgb(0, 53, 143);font-size:20px;text-align:center;\">K</td>\n",
    "    <td style=\"color:rgb(0, 53, 143);font-size:20px;text-align:center;\">\\kelvin</td>\n",
    "  </tr>\n",
    "  <tr>\n",
    "    <td style=\"color:rgb(0, 53, 143);font-size:20px;text-align:center;\">amount of substance</td>\n",
    "    <td style=\"color:rgb(0, 53, 143);font-size:20px;text-align:center;\">mole</td>\n",
    "    <td style=\"color:rgb(0, 53, 143);font-size:20px;text-align:center;\">mol</td>\n",
    "    <td style=\"color:rgb(0, 53, 143);font-size:20px;text-align:center;\">\\mole</td>\n",
    "  </tr>\n",
    "  <tr>\n",
    "    <td style=\"color:rgb(0, 53, 143);font-size:20px;text-align:center;\">luminous intensity</td>\n",
    "    <td style=\"color:rgb(0, 53, 143);font-size:20px;text-align:center;\">candela</td>\n",
    "    <td style=\"color:rgb(0, 53, 143);font-size:20px;text-align:center;\">cd</td>\n",
    "    <td style=\"color:rgb(0, 53, 143);font-size:20px;text-align:center;\">\\candela</td>\n",
    "  </tr>\n",
    "</table>\n",
    "\n",
    "<a href=\"img/Digital_System_of_Units_D-SI_2019-11-04_UK_NPL_SmartCom.pdf\"></a>\n"
   ]
  },
  {
   "cell_type": "code",
   "execution_count": null,
   "id": "equal-argument",
   "metadata": {},
   "outputs": [],
   "source": [
    "<si:real>\n",
    "    <si:label>temperature</si:label>\n",
    "    <si:value>20.1</si:value>\n",
    "    <si:unit>\\degreecelsius</si:unit>\n",
    "    <si:expandedUnc>\n",
    "        <si:uncertainty>0.5</si:uncertainty>\n",
    "        <si:coverageFactor>0.95</si:coverageFactor>\n",
    "        <si:distribution>normal</si:distribution>\n",
    "    </si:expandedUnc>\n",
    "</si:real>"
   ]
  },
  {
   "cell_type": "markdown",
   "id": "second-thong",
   "metadata": {},
   "source": [
    "<p>&nbsp;</p>\n",
    "<p style=\"color:rgb(0, 53, 143);font-size:20px;\">Magnitudes derivadas:</p>\n",
    "<p>&nbsp;</p>\n",
    "<table style=\"margin: 0 right;\">\n",
    "  <tr>\n",
    "    <td style=\"color:rgb(0, 53, 143);font-size:20px;text-align:center;\"><b>Unidad medida</b></td>\n",
    "    <td style=\"color:rgb(0, 53, 143);font-size:20px;text-align:center;\"><b>Representación simbólica</b></td>\n",
    "    <td style=\"color:rgb(0, 53, 143);font-size:20px;text-align:center;\"><b>Representación en el formato de unidades del SI</b></td>\n",
    "    </tr>\n",
    "  <tr>\n",
    "    <td style=\"color:rgb(0, 53, 143);font-size:20px;text-align:center;\">Radian</td>\n",
    "    <td style=\"color:rgb(0, 53, 143);font-size:20px;text-align:center;\">$\\frac{m}{m}$</td>\n",
    "    <td style=\"color:rgb(0, 53, 143);font-size:20px;text-align:center;\">\\metre\\metre\\tothe{-1}</td>\n",
    "  </tr>\n",
    "  <tr>\n",
    "    <td style=\"color:rgb(0, 53, 143);font-size:20px;text-align:center;\">Pascal</td>\n",
    "    <td style=\"color:rgb(0, 53, 143);font-size:20px;text-align:center;\">$\\frac{kg}{m s^2}$</td>\n",
    "    <td style=\"color:rgb(0, 53, 143);font-size:20px;text-align:center;\">\\kilogram\\metre\\tothe{-1}\\second\\tothe{-2}</td>\n",
    "  </tr>\n",
    "  <tr>\n",
    "    <td style=\"color:rgb(0, 53, 143);font-size:20px;text-align:center;\">Newton</td>\n",
    "    <td style=\"color:rgb(0, 53, 143);font-size:20px;text-align:center;\">$\\frac{m.kg}{s^2}$</td>\n",
    "    <td style=\"color:rgb(0, 53, 143);font-size:20px;text-align:center;\">\\meter\\kilogram\\second\\tothe{-2}\\</td>\n",
    "  </tr>\n",
    "  <tr>\n",
    "    <td style=\"color:rgb(0, 53, 143);font-size:20px;text-align:center;\">Ohm</td>\n",
    "    <td style=\"color:rgb(0, 53, 143);font-size:20px;text-align:center;\">$\\frac{m^2 .kg}{s^3 A^2}$</td>\n",
    "    <td style=\"color:rgb(0, 53, 143);font-size:20px;text-align:center;\">\\meter\\tothe{-2}\\kilogram\\second\\tothe{-3}\\ampere\\tothe{-2}</td>\n",
    "  </tr>\n",
    "</table>\n",
    "<p>&nbsp;</p>\n",
    "<a href=\"pdf/Digital_System_of_Units_D-SI_2019-11-04_UK_NPL_SmartCom.pdf\"><img src=\"img/schema.png\" alt=\"Drawing\" style=\"width: 700px;\"></a>\n",
    "<p>&nbsp;</p>"
   ]
  },
  {
   "cell_type": "markdown",
   "id": "super-imaging",
   "metadata": {},
   "source": [
    "<h2 style=\"color:rgb(0, 53, 143);\">DCC</h2>\n",
    "<p style=\"color:rgb(0, 53, 143);font-size:20px;\"> Hasta ahora definimos las magnitudes en un contexto <i>xml</i> así como también la medición de una temperatura.</p>\n",
    "<p style=\"color:rgb(0, 53, 143);font-size:20px;\">La propuesta mas elaborada del DCC tiene como punto de partida cuatro capas de información.</p>\n",
    "<p>&nbsp;</p>\n",
    "<a href=\"https://www.ptb.de/dcc/v2.4.0/en/\"> <img src=\"img/main structure.png\" alt=\"Drawing\" style=\"width: 700px;\"> </a>\n",
    "<p>&nbsp;</p>"
   ]
  },
  {
   "cell_type": "markdown",
   "id": "professional-condition",
   "metadata": {},
   "source": [
    "<p>&nbsp;</p>\n",
    "<p>&nbsp;</p>\n",
    "<p>&nbsp;</p>\n",
    "<p  style=\"color:rgb(0, 53, 143);font-size:20px;\"> Ahora bien, digamos que definimos todos los campos requeridos por un certificado en un xml. </p>\n",
    "<p  style=\"color:rgb(0, 53, 143);font-size:20px;\">¿Cómo continúo? </p>\n",
    "<h2  style=\"color:rgb(0, 53, 143);font-size:20px;\">Features del <i>xml</i>:</h2>\n",
    "<ul>\n",
    "    <li style=\"color:rgb(0, 53, 143);font-size:20px;\">Expandible</li>\n",
    "    <li style=\"color:rgb(0, 53, 143);font-size:20px;\">Puede ser validado</li>\n",
    "</ul>\n",
    "<p  style=\"color:rgb(0, 53, 143);font-size:20px;\"> Que sea expandible quiere decir que puede agregarse cualquier tipo de información dentro. La clave de la transmisión de datos es que la contraparte le pueda asignar un significado unívoco a lo que uno le transmite o quiera dejar asentado en el documento.</p>\n",
    "<table>\n",
    "    <tr>\n",
    "        <td><p  style=\"color:rgb(0, 53, 143);font-size:20px;\"> A través de los campos no regulados uno puede agregar por ejemplo el certificado anterior, el budget de incertidumbre que se utilizó para llegar a los valores de la calibración, los valores crudos medidos del patrón y del equipo bajo calibración. Cualquier información que uno desee transmitir y que <b>convenga</b> guardar. Y siempre conviene almacenar toda la data y metadata de un trabajo como soporte.</p></td>\n",
    "        <td><img src=\"img/metadata.png\" alt=\"Drawing\" style=\"width: 1000px;\"></td>\n",
    "    </tr>\n",
    "</table>   \n",
    "<table>\n",
    "    <tr>\n",
    "        <td><a href=\"https://www.w3schools.com/xml/schema_intro.asp\"><img src=\"img/w3school.png\" alt=\"Drawing\" style=\"width: 300px;\"/></a></td>\n",
    "        <td><p  style=\"color:rgb(0, 53, 143);font-size:20px;\">El xml puede validarse a través de otro documento que lleva como extensión <i>.xsd</i>, este formato tiene su propio lenguaje y también está definido en el w3consortium.</p></td>\n",
    "    </tr>\n",
    "</table>   \n",
    "<p  style=\"color:rgb(0, 53, 143);font-size:20px;\"> El xml es tán extensible, que podés generar tus propios <i>.xsd</i> para validar tu certificado.</p>\n",
    "<p>&nbsp;</p>\n",
    "<p>&nbsp;</p>\n",
    "<p>&nbsp;</p>\n",
    "<p>&nbsp;</p>\n",
    "<p>&nbsp;</p>\n",
    "<p>&nbsp;</p>"
   ]
  },
  {
   "cell_type": "markdown",
   "id": "dramatic-apache",
   "metadata": {},
   "source": [
    "<h2 style=\"color:rgb(0, 53, 143);\">Firma digital, Encripción, y Transmisión.</h2>\n",
    "\n",
    "<p style=\"color:rgb(0, 53, 143);font-size:20px;\">Para que un documento sea confiable debe tener una firma electrónica segura, confiable, consistente.</p>\n",
    "<p style=\"color:rgb(0, 53, 143);font-size:20px;\">La firma electrónica la regulan los estados de los países.</p>\n",
    "\n",
    "</table>   \n",
    "<table>\n",
    "    <tr>\n",
    "        <td><a href=\"https://www.argentina.gob.ar/jefatura/innovacion-publica/administrativa/firmadigital\"> <img src=\"img/firma1.png\" alt=\"Drawing\" style=\"width: 100px;\"> </a></td>\n",
    "        <td><a href=\"pdf/05.sensors-20-04730.pdf\"><img src=\"img/signing.png\" alt=\"Drawing\" style=\"width: 500px;\"></a></td>\n",
    "    </tr>\n",
    "</table>\n",
    "<p style=\"color:rgb(0, 53, 143);font-size:10px;\">Tuukka Mustapää, Pekka Nikander, Daniel Hutzschenreuter y Raine Viitala (2020). Metrological Challenges in Collaborative Sensing: Applicability of Digital Calibration Certificates. <i>sensors - MDPI</i> </p>"
   ]
  },
  {
   "cell_type": "markdown",
   "id": "ecological-culture",
   "metadata": {},
   "source": [
    "<p style=\"color:rgb(0, 53, 143);font-size:20px;\"> En cuanto a la encripción no existe una propuesta en concreta. Pero se especula con xxx</p>"
   ]
  },
  {
   "cell_type": "markdown",
   "id": "collected-council",
   "metadata": {},
   "source": [
    "<p style=\"color:rgb(0, 53, 143);font-size:20px;\">En cuanto a la transmisión y almacenaje, el documento puede almacenarse en una blockchain, filechain o enviado por mail.</p>"
   ]
  },
  {
   "cell_type": "markdown",
   "id": "analyzed-bennett",
   "metadata": {},
   "source": [
    "<p>&nbsp;</p>\n",
    "<p>&nbsp;</p>\n",
    "<p>&nbsp;</p>\n",
    "<p>&nbsp;</p>\n",
    "<h2 style=\"color:rgb(0, 53, 143);\"> ¿Qué implica en el mediano plazo y la transición?</h2>"
   ]
  },
  {
   "cell_type": "markdown",
   "id": "adequate-license",
   "metadata": {},
   "source": [
    "<p style=\"color:rgb(0, 53, 143);font-size:20px;\">La intención del CIPM es, que a mediano plazo, el xml no vaya asociado con un pdf <i>human readable</i>. El certificado que se firma digitalmente y se encripta va a ser el documento xml.</p>\n",
    "\n",
    "<p style=\"color:rgb(0, 53, 143);font-size:20px;\">Durante la transición, el pdf irá asociado al xml. En cuanto a la firma del pdf que se inserta dentro del xml no entra dentro de los requerimientos del DCC.</p>\n",
    "<p>&nbsp;</p>\n",
    "<p>&nbsp;</p>\n",
    "<p>&nbsp;</p>\n",
    "<p>&nbsp;</p>\n",
    "<p>&nbsp;</p>\n",
    "<p>&nbsp;</p>\n",
    "<p>&nbsp;</p>\n",
    "<p>&nbsp;</p>\n",
    "<p>&nbsp;</p>\n",
    "<p>&nbsp;</p>\n",
    "<p>&nbsp;</p>\n",
    "<p>&nbsp;</p>\n"
   ]
  },
  {
   "cell_type": "markdown",
   "id": "prepared-frederick",
   "metadata": {},
   "source": [
    "<h2 style=\"color:rgb(0, 53, 143);\"> Aceso al xml con python - lxml etree </h2>"
   ]
  },
  {
   "cell_type": "markdown",
   "id": "urban-gardening",
   "metadata": {},
   "source": [
    "<h3 style=\"color:rgb(0, 53, 143);\"> Iteración </h3>"
   ]
  },
  {
   "cell_type": "code",
   "execution_count": 20,
   "id": "convinced-export",
   "metadata": {},
   "outputs": [
    {
     "name": "stdout",
     "output_type": "stream",
     "text": [
      "name ->  Diego Coppa\n",
      "eMail ->  dcoppa@inti.gob.ar\n",
      "phone ->  (5411) 4724-6200 int 6933\n",
      "city ->  Provincia de Buenos Aires\n",
      "countryCode ->  AR\n",
      "postCode ->  B1650WAB\n",
      "state ->  Argentina\n",
      "street ->  Av. General Paz\n",
      "streetNo ->  5445\n",
      "content ->  San Martín\n"
     ]
    }
   ],
   "source": [
    "from lxml import etree\n",
    "from io import StringIO\n",
    "\n",
    "xml_text=\"<?xml version='1.0'?>\\\n",
    "            <person id='Técnico'>\\\n",
    "\t\t\t\t<name>Diego Coppa</name>\\\n",
    "\t\t\t\t<eMail>dcoppa@inti.gob.ar</eMail>\\\n",
    "\t\t\t\t<phone>(5411) 4724-6200 int 6933</phone>\\\n",
    "\t\t\t\t<location>\\\n",
    "\t\t\t\t\t<city>Provincia de Buenos Aires</city>\\\n",
    "\t\t\t\t\t<countryCode>AR</countryCode>\\\n",
    "\t\t\t\t\t<postCode>B1650WAB</postCode>\\\n",
    "\t\t\t\t\t<state>Argentina</state>\\\n",
    "\t\t\t\t\t<street>Av. General Paz</street>\\\n",
    "\t\t\t\t\t<streetNo>5445</streetNo>\\\n",
    "\t\t\t\t\t<further>\\\n",
    "\t\t\t\t\t\t<content>San Martín</content>\\\n",
    "\t\t\t\t\t</further>\\\n",
    "\t\t\t\t</location>\\\n",
    "\t\t\t</person> \"\n",
    "\n",
    "def parseXML():\n",
    "        elem_tree=etree.parse(StringIO(xml_text))\n",
    "        for tag in elem_tree.iter():\n",
    "            if not len(tag):\n",
    "                print(tag.tag , \"-> \", tag.text)\n",
    "            \n",
    "if __name__ == \"__main__\":\n",
    "    parseXML()\n",
    "    \n",
    "    "
   ]
  },
  {
   "cell_type": "markdown",
   "id": "imposed-harvest",
   "metadata": {},
   "source": [
    "<h3 style=\"color:rgb(0, 53, 143);\"> Por path </h3>"
   ]
  },
  {
   "cell_type": "code",
   "execution_count": 22,
   "id": "hazardous-dispatch",
   "metadata": {},
   "outputs": [
    {
     "name": "stdout",
     "output_type": "stream",
     "text": [
      "phone ->  (5411) 4724-6200 int 6933\n"
     ]
    }
   ],
   "source": [
    "from lxml import etree\n",
    "from io import StringIO\n",
    "import dateutil.parser\n",
    "\n",
    "xml_text=\"<?xml version='1.0'?>\\\n",
    "            <person id='Técnico'>\\\n",
    "\t\t\t\t<name>Diego Coppa</name>\\\n",
    "\t\t\t\t<eMail>dcoppa@inti.gob.ar</eMail>\\\n",
    "\t\t\t\t<phone>(5411) 4724-6200 int 6933</phone>\\\n",
    "\t\t\t\t<location>\\\n",
    "\t\t\t\t\t<city>Provincia de Buenos Aires</city>\\\n",
    "\t\t\t\t\t<countryCode>AR</countryCode>\\\n",
    "\t\t\t\t\t<postCode>B1650WAB</postCode>\\\n",
    "\t\t\t\t\t<state>Argentina</state>\\\n",
    "\t\t\t\t\t<street>Av. General Paz</street>\\\n",
    "\t\t\t\t\t<streetNo>5445</streetNo>\\\n",
    "\t\t\t\t\t<further>\\\n",
    "\t\t\t\t\t\t<content>San Martín</content>\\\n",
    "\t\t\t\t\t</further>\\\n",
    "\t\t\t\t</location>\\\n",
    "\t\t\t</person> \"\n",
    "\n",
    "path=\"/person/phone\"\n",
    "\n",
    "def parseXML():\n",
    "        elem_tree=etree.parse(StringIO(xml_text))\n",
    "        r=elem_tree.xpath(path)\n",
    "        print(r[0].tag, \"-> \", r[0].text)\n",
    "        \n",
    "if __name__ == \"__main__\":\n",
    "    parseXML()\n",
    "    \n",
    "\n"
   ]
  },
  {
   "cell_type": "code",
   "execution_count": 25,
   "id": "tutorial-navigator",
   "metadata": {},
   "outputs": [
    {
     "name": "stdout",
     "output_type": "stream",
     "text": [
      "release ->  v1.0.0\n"
     ]
    }
   ],
   "source": [
    "# -*- coding: utf-8 -*-\n",
    "\n",
    "from lxml import etree\n",
    "from io import StringIO, BytesIO\n",
    "import dateutil.parser\n",
    "\n",
    "#path_a=\"/dcc:digitalCalibrationCertificate/dcc:administrativeData/dcc:dccSoftware/dcc:software[@id='INTI-DCC4F']/dcc:release\"\n",
    "#path_a=\"/dcc:digitalCalibrationCertificate/dcc:administrativeData/dcc:coreData/dcc:receiptDate\"\n",
    "#path_a=\"/dcc:digitalCalibrationCertificate/dcc:administrativeData/dcc:items\"\n",
    "#path_a=\"/dcc:digitalCalibrationCertificate/dcc:administrativeData/dcc:coreData/dcc:receiptDate/dcc:description[@id='DCCbyDC']/dcc:content[@lang='es']\"\n",
    "#path_a=\"/dcc:digitalCalibrationCertificate/dcc:administrativeData/dcc:coreData/dcc:receiptDate\"\n",
    "\n",
    "def parseXML(xmlFile):\n",
    "    with open(xmlFile) as fobj:\n",
    "        xml_str = fobj.read() # devuelve string\n",
    "        elem_tree=etree.parse(StringIO(xml_str)) # devuelve elementr tree\n",
    "        r=elem_tree.xpath(path_a,namespaces={'dcc': 'https://ptb.de/dcc' })\n",
    "        data=str(r[0].tag)\n",
    "        print(data[data.find(\"}\")+1:], \"-> \", r[0].text)\n",
    "\n",
    "if __name__ == \"__main__\":\n",
    "    parseXML(\"xml/calibracion.xml\")"
   ]
  },
  {
   "cell_type": "markdown",
   "id": "fossil-harassment",
   "metadata": {},
   "source": [
    "<h2 style=\"color:rgb(0, 53, 143);\">DCC en un sistema de gestión - MIDDLEWARE</h2>"
   ]
  },
  {
   "cell_type": "markdown",
   "id": "alone-profile",
   "metadata": {},
   "source": [
    "<p style=\"color:rgb(0, 53, 143);font-size:20px;\">La creación de un certificado, sea el DCC o el actual, está muy entrelazado al sistema de gestión administrativo que cada laboratorio tenga.</p>\n",
    "<p style=\"color:rgb(0, 53, 143);font-size:20px;\">Reditúa en tiempo y en plata la automatización del certificado como también la automatización de las mediciones en general.</p>"
   ]
  },
  {
   "cell_type": "markdown",
   "id": "noble-northern",
   "metadata": {},
   "source": [
    "<h2 style=\"color:rgb(0, 53, 143);\">Armé un D.C.C. ¿Cómo sigo?</h2>"
   ]
  },
  {
   "cell_type": "markdown",
   "id": "working-threat",
   "metadata": {},
   "source": [
    "<img src=\"img/calipclouddcc.png\" alt=\"Drawing\" style=\"width: 800px;\">\n",
    "<p>&nbsp;</p>\n",
    "<p style=\"color:rgb(0, 53, 143);font-size:20px;\">¿Eliminamos las especificaciones? o mejor dicho, ¿generamos un protocolo de comunicación para que se transmita digitalmente la incertidumbre según rango, longevidad del instrumento, etc?</p>\n",
    "<p>&nbsp;</p>\n",
    "<img src=\"img/especificaciones.png\" alt=\"Drawing\" style=\"width: 800px;\">\n",
    "<p>&nbsp;</p>\n",
    "<p style=\"color:rgb(0, 53, 143);font-size:20px;\">Redes de sensores</p>\n",
    "<img src=\"img/networksensors.png\" alt=\"Drawing\" style=\"width: 800px;\">\n",
    "<p>&nbsp;</p>\n",
    "<p style=\"color:rgb(0, 53, 143);font-size:10px;\">Tuukka Mustapää, Pekka Nikander, Daniel Hutzschenreuter y Raine Viitala (2020). Metrological Challenges in Collaborative Sensing: Applicability of Digital Calibration Certificates. <i>sensors - MDPI</i> </p>"
   ]
  },
  {
   "cell_type": "markdown",
   "id": "tired-football",
   "metadata": {},
   "source": [
    "<p style=\"color:rgb(0, 53, 143);font-size:20px;\">DCR, DCA, DCmC OIML está estableciendo en Metrología Legal</p>"
   ]
  },
  {
   "cell_type": "markdown",
   "id": "collective-hundred",
   "metadata": {},
   "source": [
    " <img src=\"img/tenor.gif\" alt=\"Flowers in Chania\">\n"
   ]
  },
  {
   "cell_type": "markdown",
   "id": "complex-belfast",
   "metadata": {},
   "source": [
    "<h2 style=\"color:rgb(0, 53, 143);font-size:20px;\">Bibliografía:</h2>\n",
    "\n",
    "<p style=\"color:rgb(0, 53, 143);font-size:20px;\">Tuukka Mustapää, Pekka Nikander, Daniel Hutzschenreuter y Raine Viitala (2020). Metrological Challenges in Collaborative Sensing: Applicability of Digital Calibration Certificates. <i>sensors - MDPI</i> </p>\n",
    "\n",
    "https://lxml.de/tutorial.html\n",
    "\n",
    "https://www.ptb.de/dcc/v2.3.0/en/\n",
    "\n",
    "https://www.ptb.de/empir2018/smartcom/project/\n",
    "\n",
    "https://www.bipm.org/en/measurement-units/\n",
    "\n",
    "https://www.w3schools.com/xml/\n",
    "\n",
    "\n",
    "<p style=\"color:rgb(0, 53, 143);font-size:20px;\">D. Hutzschenreuter (2019). Digital System of Units Digital Calibration Certificate DCC – XML Schema <i>smartcom</i> DOI: 10.5281/zenodo.3522631</p>\n",
    "\n",
    "http://www.qudt.org/pages/QUDTgoals.html\n",
    "\n",
    "https://ci.mines-stetienne.fr/lindt/v3/custom_datatypes\n",
    "    \n"
   ]
  }
 ],
 "metadata": {
  "celltoolbar": "Slideshow",
  "kernelspec": {
   "display_name": "Python 3",
   "language": "python",
   "name": "python3"
  },
  "language_info": {
   "codemirror_mode": {
    "name": "ipython",
    "version": 3
   },
   "file_extension": ".py",
   "mimetype": "text/x-python",
   "name": "python",
   "nbconvert_exporter": "python",
   "pygments_lexer": "ipython3",
   "version": "3.9.1"
  }
 },
 "nbformat": 4,
 "nbformat_minor": 5
}
