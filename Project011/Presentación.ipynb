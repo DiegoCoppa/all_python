{
 "cells": [
  {
   "cell_type": "markdown",
   "id": "amazing-stone",
   "metadata": {
    "slideshow": {
     "slide_type": "slide"
    },
    "tags": []
   },
   "source": [
    "<h1></h1>\n",
    "<h2 style=\"color:rgb(0, 53, 143);font-size:40px;text-align:center;\">Bienvenidos a la primera jornada sobre la metrología para la transformación digital</h2>\n",
    "<h3></h3>\n",
    "<h4 style=\"color:rgb(0, 53, 143);font-size:40px;text-align:center;\">Tópico: El DCC, un acuerdo necesario para la digitalización</h4>\n",
    "<h5></h5>\n",
    "<h6 style=\"color:rgb(0, 53, 143);font-size:40px;text-align:center;\">Presentado por:</h6>"
   ]
  },
  {
   "cell_type": "markdown",
   "id": "streaming-information",
   "metadata": {
    "tags": []
   },
   "source": [
    "<table>\n",
    "    <tr>\n",
    "        <td style=\"color:rgb(0, 53, 143);font-size:20px;\">\n",
    "            <p>Ing. Diego Nahuel Coppa<p>\n",
    "            <p>Departamento de Flujo y Volumen<p>\n",
    "            <p>Centro de Metrología Física<p>\n",
    "            <p>Gerencia Operativa de Metrología y Calidad<p>\n",
    "        </td>\n",
    "        <td><img src=\"img/01_B_Isologotipo_institucional_produccion_sin_denominacion_fondo_blanco.jpg\" alt=\"Drawing\" style=\"width: 400px;\"/>\n",
    "        </td>\n",
    "    </tr>\n",
    "</table"
   ]
  },
  {
   "cell_type": "code",
   "execution_count": null,
   "id": "weekly-bonus",
   "metadata": {},
   "outputs": [],
   "source": []
  },
  {
   "cell_type": "code",
   "execution_count": null,
   "id": "natural-dominant",
   "metadata": {
    "tags": []
   },
   "outputs": [],
   "source": []
  },
  {
   "cell_type": "code",
   "execution_count": null,
   "id": "minute-compression",
   "metadata": {},
   "outputs": [],
   "source": [
    "1er Slide\n",
    "Historia: \n",
    "Proyecto Smartcom empir 17ind02\n",
    "-Task Group DSI\n",
    "-Expert Group SI"
   ]
  },
  {
   "cell_type": "markdown",
   "id": "identical-twenty",
   "metadata": {},
   "source": [
    "Smartcom empir 17ind02"
   ]
  },
  {
   "cell_type": "markdown",
   "id": "former-adelaide",
   "metadata": {},
   "source": [
    "<table>\n",
    "    <tr>\n",
    "        <td><img src=\"img/csm_Atlas_Smartcom_0674091bc1.png\" alt=\"Drawing\" style=\"width: 400px;\"/></td>\n",
    "        <td><img src=\"img/gemimeg.png\" alt=\"Drawing\" style=\"width: 400px;\"/></td>\n",
    "    </tr>\n",
    "</table>"
   ]
  },
  {
   "cell_type": "code",
   "execution_count": null,
   "id": "biological-perfume",
   "metadata": {},
   "outputs": [],
   "source": [
    "<t>Tiene como objetivo entre otros:</t>\n",
    "    <p>Definir los requerimientos para el intercambio de información metrológica en un formato uniforme, no ambiguo y seguro data en redes de IOT.</p>"
   ]
  },
  {
   "cell_type": "raw",
   "id": "violent-france",
   "metadata": {},
   "source": [
    "Thus, the main link between GemiMeG and SmartCom will be the development of digital calibration certificates based on the SmartCom definitions."
   ]
  },
  {
   "cell_type": "raw",
   "id": "amended-victoria",
   "metadata": {},
   "source": [
    "First versions of the DCCs based on the SmartCom definitions are being prepared and tested by the project partners and at PTB by project GemiMeG. The project GemiMeG deals partly with secure and robust calibrated measurement systems for the digital transfer of information and focuses also on the secure distribution and usage of obtained data. Thus, the main link between GemiMeG and SmartCom will be the development of digital calibration certificates based on the SmartCom definitions."
   ]
  }
 ],
 "metadata": {
  "kernelspec": {
   "display_name": "Python 3",
   "language": "python",
   "name": "python3"
  },
  "language_info": {
   "codemirror_mode": {
    "name": "ipython",
    "version": 3
   },
   "file_extension": ".py",
   "mimetype": "text/x-python",
   "name": "python",
   "nbconvert_exporter": "python",
   "pygments_lexer": "ipython3",
   "version": "3.9.1"
  }
 },
 "nbformat": 4,
 "nbformat_minor": 5
}
