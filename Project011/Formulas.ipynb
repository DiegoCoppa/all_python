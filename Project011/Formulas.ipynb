{
 "cells": [
  {
   "cell_type": "markdown",
   "metadata": {
    "slideshow": {
     "slide_type": "-"
    }
   },
   "source": [
    "<h2 style=\"color:rgb(0, 53, 143);font-family:Montserrat;\"> Aceso al xml con python - lxml etree </h2>\n",
    "<h3 style=\"color:rgb(0, 53, 143);font-family:Montserrat;\"> Iteración </h3>"
   ]
  },
  {
   "cell_type": "code",
   "execution_count": 1,
   "metadata": {
    "slideshow": {
     "slide_type": "fragment"
    }
   },
   "outputs": [
    {
     "name": "stdout",
     "output_type": "stream",
     "text": [
      "name ->  Diego Coppa\n",
      "eMail ->  dcoppa@inti.gob.ar\n",
      "phone ->  (5411) 4724-6200 int 6933\n",
      "city ->  Provincia de Buenos Aires\n",
      "countryCode ->  AR\n",
      "postCode ->  B1650WAB\n",
      "state ->  Argentina\n",
      "street ->  Av. General Paz\n",
      "streetNo ->  5445\n",
      "content ->  San Martín\n"
     ]
    }
   ],
   "source": [
    "from lxml import etree\n",
    "from io import StringIO\n",
    "\n",
    "xml_text=\"<?xml version='1.0'?>\\\n",
    "            <person id='Técnico'>\\\n",
    "\t\t\t\t<name>Diego Coppa</name>\\\n",
    "\t\t\t\t<eMail>dcoppa@inti.gob.ar</eMail>\\\n",
    "\t\t\t\t<phone>(5411) 4724-6200 int 6933</phone>\\\n",
    "\t\t\t\t<location>\\\n",
    "\t\t\t\t\t<city>Provincia de Buenos Aires</city>\\\n",
    "\t\t\t\t\t<countryCode>AR</countryCode>\\\n",
    "\t\t\t\t\t<postCode>B1650WAB</postCode>\\\n",
    "\t\t\t\t\t<state>Argentina</state>\\\n",
    "\t\t\t\t\t<street>Av. General Paz</street>\\\n",
    "\t\t\t\t\t<streetNo>5445</streetNo>\\\n",
    "\t\t\t\t\t<further>\\\n",
    "\t\t\t\t\t\t<content>San Martín</content>\\\n",
    "\t\t\t\t\t</further>\\\n",
    "\t\t\t\t</location>\\\n",
    "\t\t\t</person> \"\n",
    "\n",
    "def parseXML():\n",
    "        elem_tree=etree.parse(StringIO(xml_text))\n",
    "        for tag in elem_tree.iter():\n",
    "            if not len(tag):\n",
    "                print(tag.tag , \"-> \", tag.text)\n",
    "            \n",
    "if __name__ == \"__main__\":\n",
    "    parseXML()\n",
    "    \n",
    "    "
   ]
  },
  {
   "cell_type": "markdown",
   "metadata": {
    "slideshow": {
     "slide_type": "slide"
    }
   },
   "source": [
    "<h3 style=\"color:rgb(0, 53, 143);font-family:Montserrat;\"> Por path </h3>"
   ]
  },
  {
   "cell_type": "code",
   "execution_count": 9,
   "metadata": {
    "slideshow": {
     "slide_type": "fragment"
    }
   },
   "outputs": [
    {
     "name": "stdout",
     "output_type": "stream",
     "text": [
      "phone ->  (5411) 4724-6200 int 6933\n"
     ]
    }
   ],
   "source": [
    "from lxml import etree\n",
    "from io import StringIO\n",
    "import dateutil.parser\n",
    "\n",
    "xml_text=\"<?xml version='1.0'?>\\\n",
    "            <person id='Técnico'>\\\n",
    "\t\t\t\t<name>Diego Coppa</name>\\\n",
    "\t\t\t\t<eMail>dcoppa@inti.gob.ar</eMail>\\\n",
    "\t\t\t\t<phone>(5411) 4724-6200 int 6933</phone>\\\n",
    "\t\t\t\t<location>\\\n",
    "\t\t\t\t\t<city>Provincia de Buenos Aires</city>\\\n",
    "\t\t\t\t\t<countryCode>AR</countryCode>\\\n",
    "\t\t\t\t\t<postCode>B1650WAB</postCode>\\\n",
    "\t\t\t\t\t<state>Argentina</state>\\\n",
    "\t\t\t\t\t<street>Av. General Paz</street>\\\n",
    "\t\t\t\t\t<streetNo>5445</streetNo>\\\n",
    "\t\t\t\t\t<further>\\\n",
    "\t\t\t\t\t\t<content>San Martín</content>\\\n",
    "\t\t\t\t\t</further>\\\n",
    "\t\t\t\t</location>\\\n",
    "\t\t\t</person> \"\n",
    "\n",
    "path=\"/person/phone\"\n",
    "\n",
    "def parseXML():\n",
    "        elem_tree=etree.parse(StringIO(xml_text))\n",
    "        r=elem_tree.xpath(path)\n",
    "        print(r[0].tag, \"-> \", r[0].text)\n",
    "        \n",
    "if __name__ == \"__main__\":\n",
    "    parseXML()\n",
    "    \n",
    "\n"
   ]
  },
  {
   "cell_type": "markdown",
   "metadata": {
    "slideshow": {
     "slide_type": "slide"
    }
   },
   "source": [
    "<h3 style=\"color:rgb(0, 53, 143);font-family:Montserrat;\"> Archivo xml </h3>"
   ]
  },
  {
   "cell_type": "code",
   "execution_count": 8,
   "metadata": {
    "slideshow": {
     "slide_type": "fragment"
    }
   },
   "outputs": [
    {
     "name": "stdout",
     "output_type": "stream",
     "text": [
      "unit ->  \\kilogram\n"
     ]
    }
   ],
   "source": [
    "from lxml import etree\n",
    "from io import StringIO, BytesIO\n",
    "import dateutil.parser\n",
    "\n",
    "#path_a=\"/dcc:digitalCalibrationCertificate/dcc:administrativeData/dcc:calibrationLaboratory/dcc:contact[@id='INTI']/dcc:name/dcc:content[@lang='es']\"\n",
    "#fecha de recibimiento del equipo\n",
    "#path_a=\"/dcc:digitalCalibrationCertificate/dcc:administrativeData/dcc:coreData/dcc:receiptDate\"\n",
    "#magnitud\n",
    "#path_a=\"/dcc:digitalCalibrationCertificate/dcc:measurementsResults/dcc:list/dcc:quantity/si:real/si:value\"\n",
    "#magnitud\n",
    "path_a=\"/dcc:digitalCalibrationCertificate/dcc:measurementsResults/dcc:list/dcc:quantity/si:real/si:unit\"\n",
    "#incertidumbre de medición\n",
    "#path_a=\"/dcc:digitalCalibrationCertificate/dcc:measurementsResults/dcc:list/dcc:quantity/si:real/si:expandedUnc/si:uncertainty\"\n",
    "#path al laboratorio o el nmi que creó el certificado\n",
    "\n",
    "def parseXML(xmlFile):\n",
    "    with open(xmlFile) as fobj:\n",
    "        xml_str = fobj.read() # devuelve string\n",
    "        elem_tree=etree.parse(StringIO(xml_str)) # devuelve elementr tree\n",
    "        r=elem_tree.xpath(path_a,namespaces={'dcc': 'https://ptb.de/dcc', 'si': 'https://ptb.de/si' })\n",
    "        data=str(r[0].tag)\n",
    "        print(data[data.find(\"}\")+1:], \"-> \", r[0].text)\n",
    "\n",
    "        #print(r)\n",
    "        \n",
    "\n",
    "if __name__ == \"__main__\":\n",
    "    parseXML(\"xml/calibracion2.xml\")"
   ]
  },
  {
   "cell_type": "code",
   "execution_count": null,
   "metadata": {},
   "outputs": [],
   "source": []
  }
 ],
 "metadata": {
  "celltoolbar": "Edit Metadata",
  "kernelspec": {
   "display_name": "Python 3",
   "language": "python",
   "name": "python3"
  },
  "language_info": {
   "codemirror_mode": {
    "name": "ipython",
    "version": 3
   },
   "file_extension": ".py",
   "mimetype": "text/x-python",
   "name": "python",
   "nbconvert_exporter": "python",
   "pygments_lexer": "ipython3",
   "version": "3.8.5"
  }
 },
 "nbformat": 4,
 "nbformat_minor": 5
}
